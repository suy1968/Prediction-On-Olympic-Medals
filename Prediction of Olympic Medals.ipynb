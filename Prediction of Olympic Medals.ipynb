{
 "cells": [
  {
   "cell_type": "markdown",
   "metadata": {
    "id": "fnxKXlVHJ3IV"
   },
   "source": [
    " # ** Prediction of Olympic Medals**"
   ]
  },
  {
   "cell_type": "markdown",
   "metadata": {
    "id": "XGl2KTJdKBru"
   },
   "source": [
    "## Importing Libraries\n"
   ]
  },
  {
   "cell_type": "code",
   "execution_count": 1,
   "metadata": {
    "id": "xLT3C2gbV8SQ"
   },
   "outputs": [],
   "source": [
    "import numpy as np\n",
    "import pandas as pd\n",
    "\n",
    "import matplotlib.pyplot as plt\n",
    "import seaborn as sns\n",
    "\n",
    "from sklearn.preprocessing import MinMaxScaler\n",
    "from sklearn.model_selection import train_test_split\n",
    "from sklearn.metrics import classification_report, confusion_matrix,accuracy_score\n",
    "\n",
    "from sklearn.feature_selection import SelectKBest\n",
    "from sklearn.feature_selection import chi2\n",
    "\n",
    "import tensorflow as tf\n",
    "from sklearn.naive_bayes import MultinomialNB\n",
    "from sklearn.linear_model import LogisticRegression\n",
    "from sklearn.ensemble import RandomForestClassifier\n",
    "from sklearn.ensemble import GradientBoostingClassifier\n",
    "from sklearn.tree import DecisionTreeClassifier\n",
    "from sklearn.svm import SVC\n",
    "from sklearn.naive_bayes import GaussianNB"
   ]
  },
  {
   "cell_type": "markdown",
   "metadata": {
    "id": "V1z2DGzcKU-A"
   },
   "source": [
    "## Reading Dataset"
   ]
  },
  {
   "cell_type": "code",
   "execution_count": 2,
   "metadata": {
    "id": "EPaE2xmLZlDQ"
   },
   "outputs": [],
   "source": [
    "data = pd.read_csv(r'C:\\Users\\Admin\\Desktop\\athlete_events.csv')"
   ]
  },
  {
   "cell_type": "code",
   "execution_count": 3,
   "metadata": {
    "colab": {
     "base_uri": "https://localhost:8080/",
     "height": 417
    },
    "id": "2lXaRKQaZrXq",
    "outputId": "9aaed1f9-3cf9-4bcb-fc03-efcf3373b27e"
   },
   "outputs": [
    {
     "data": {
      "text/html": [
       "<div>\n",
       "<style scoped>\n",
       "    .dataframe tbody tr th:only-of-type {\n",
       "        vertical-align: middle;\n",
       "    }\n",
       "\n",
       "    .dataframe tbody tr th {\n",
       "        vertical-align: top;\n",
       "    }\n",
       "\n",
       "    .dataframe thead th {\n",
       "        text-align: right;\n",
       "    }\n",
       "</style>\n",
       "<table border=\"1\" class=\"dataframe\">\n",
       "  <thead>\n",
       "    <tr style=\"text-align: right;\">\n",
       "      <th></th>\n",
       "      <th>ID</th>\n",
       "      <th>Name</th>\n",
       "      <th>Sex</th>\n",
       "      <th>Age</th>\n",
       "      <th>Height</th>\n",
       "      <th>Weight</th>\n",
       "      <th>Team</th>\n",
       "      <th>NOC</th>\n",
       "      <th>Games</th>\n",
       "      <th>Year</th>\n",
       "      <th>Season</th>\n",
       "      <th>City</th>\n",
       "      <th>Sport</th>\n",
       "      <th>Event</th>\n",
       "      <th>Medal</th>\n",
       "    </tr>\n",
       "  </thead>\n",
       "  <tbody>\n",
       "    <tr>\n",
       "      <th>0</th>\n",
       "      <td>1</td>\n",
       "      <td>A Dijiang</td>\n",
       "      <td>M</td>\n",
       "      <td>24.0</td>\n",
       "      <td>180.0</td>\n",
       "      <td>80.0</td>\n",
       "      <td>China</td>\n",
       "      <td>CHN</td>\n",
       "      <td>1992 Summer</td>\n",
       "      <td>1992</td>\n",
       "      <td>Summer</td>\n",
       "      <td>Barcelona</td>\n",
       "      <td>Basketball</td>\n",
       "      <td>Basketball Men's Basketball</td>\n",
       "      <td>NaN</td>\n",
       "    </tr>\n",
       "    <tr>\n",
       "      <th>1</th>\n",
       "      <td>2</td>\n",
       "      <td>A Lamusi</td>\n",
       "      <td>M</td>\n",
       "      <td>23.0</td>\n",
       "      <td>170.0</td>\n",
       "      <td>60.0</td>\n",
       "      <td>China</td>\n",
       "      <td>CHN</td>\n",
       "      <td>2012 Summer</td>\n",
       "      <td>2012</td>\n",
       "      <td>Summer</td>\n",
       "      <td>London</td>\n",
       "      <td>Judo</td>\n",
       "      <td>Judo Men's Extra-Lightweight</td>\n",
       "      <td>NaN</td>\n",
       "    </tr>\n",
       "    <tr>\n",
       "      <th>2</th>\n",
       "      <td>3</td>\n",
       "      <td>Gunnar Nielsen Aaby</td>\n",
       "      <td>M</td>\n",
       "      <td>24.0</td>\n",
       "      <td>NaN</td>\n",
       "      <td>NaN</td>\n",
       "      <td>Denmark</td>\n",
       "      <td>DEN</td>\n",
       "      <td>1920 Summer</td>\n",
       "      <td>1920</td>\n",
       "      <td>Summer</td>\n",
       "      <td>Antwerpen</td>\n",
       "      <td>Football</td>\n",
       "      <td>Football Men's Football</td>\n",
       "      <td>NaN</td>\n",
       "    </tr>\n",
       "    <tr>\n",
       "      <th>3</th>\n",
       "      <td>4</td>\n",
       "      <td>Edgar Lindenau Aabye</td>\n",
       "      <td>M</td>\n",
       "      <td>34.0</td>\n",
       "      <td>NaN</td>\n",
       "      <td>NaN</td>\n",
       "      <td>Denmark/Sweden</td>\n",
       "      <td>DEN</td>\n",
       "      <td>1900 Summer</td>\n",
       "      <td>1900</td>\n",
       "      <td>Summer</td>\n",
       "      <td>Paris</td>\n",
       "      <td>Tug-Of-War</td>\n",
       "      <td>Tug-Of-War Men's Tug-Of-War</td>\n",
       "      <td>Gold</td>\n",
       "    </tr>\n",
       "    <tr>\n",
       "      <th>4</th>\n",
       "      <td>5</td>\n",
       "      <td>Christine Jacoba Aaftink</td>\n",
       "      <td>F</td>\n",
       "      <td>21.0</td>\n",
       "      <td>185.0</td>\n",
       "      <td>82.0</td>\n",
       "      <td>Netherlands</td>\n",
       "      <td>NED</td>\n",
       "      <td>1988 Winter</td>\n",
       "      <td>1988</td>\n",
       "      <td>Winter</td>\n",
       "      <td>Calgary</td>\n",
       "      <td>Speed Skating</td>\n",
       "      <td>Speed Skating Women's 500 metres</td>\n",
       "      <td>NaN</td>\n",
       "    </tr>\n",
       "    <tr>\n",
       "      <th>...</th>\n",
       "      <td>...</td>\n",
       "      <td>...</td>\n",
       "      <td>...</td>\n",
       "      <td>...</td>\n",
       "      <td>...</td>\n",
       "      <td>...</td>\n",
       "      <td>...</td>\n",
       "      <td>...</td>\n",
       "      <td>...</td>\n",
       "      <td>...</td>\n",
       "      <td>...</td>\n",
       "      <td>...</td>\n",
       "      <td>...</td>\n",
       "      <td>...</td>\n",
       "      <td>...</td>\n",
       "    </tr>\n",
       "    <tr>\n",
       "      <th>1018</th>\n",
       "      <td>570</td>\n",
       "      <td>Pedro Abreu Pascal</td>\n",
       "      <td>M</td>\n",
       "      <td>23.0</td>\n",
       "      <td>200.0</td>\n",
       "      <td>88.0</td>\n",
       "      <td>Cuba</td>\n",
       "      <td>CUB</td>\n",
       "      <td>1980 Summer</td>\n",
       "      <td>1980</td>\n",
       "      <td>Summer</td>\n",
       "      <td>Moskva</td>\n",
       "      <td>Basketball</td>\n",
       "      <td>Basketball Men's Basketball</td>\n",
       "      <td>NaN</td>\n",
       "    </tr>\n",
       "    <tr>\n",
       "      <th>1019</th>\n",
       "      <td>571</td>\n",
       "      <td>Rubn Abreu Rivero</td>\n",
       "      <td>M</td>\n",
       "      <td>24.0</td>\n",
       "      <td>177.0</td>\n",
       "      <td>71.0</td>\n",
       "      <td>Venezuela</td>\n",
       "      <td>VEN</td>\n",
       "      <td>1996 Summer</td>\n",
       "      <td>1996</td>\n",
       "      <td>Summer</td>\n",
       "      <td>Atlanta</td>\n",
       "      <td>Cycling</td>\n",
       "      <td>Cycling Men's Road Race, Individual</td>\n",
       "      <td>NaN</td>\n",
       "    </tr>\n",
       "    <tr>\n",
       "      <th>1020</th>\n",
       "      <td>572</td>\n",
       "      <td>Rui Pinto de Abreu</td>\n",
       "      <td>M</td>\n",
       "      <td>15.0</td>\n",
       "      <td>177.0</td>\n",
       "      <td>64.0</td>\n",
       "      <td>Portugal</td>\n",
       "      <td>POR</td>\n",
       "      <td>1976 Summer</td>\n",
       "      <td>1976</td>\n",
       "      <td>Summer</td>\n",
       "      <td>Montreal</td>\n",
       "      <td>Swimming</td>\n",
       "      <td>Swimming Men's 400 metres Freestyle</td>\n",
       "      <td>NaN</td>\n",
       "    </tr>\n",
       "    <tr>\n",
       "      <th>1021</th>\n",
       "      <td>572</td>\n",
       "      <td>Rui Pinto de Abreu</td>\n",
       "      <td>M</td>\n",
       "      <td>15.0</td>\n",
       "      <td>177.0</td>\n",
       "      <td>64.0</td>\n",
       "      <td>Portugal</td>\n",
       "      <td>POR</td>\n",
       "      <td>1976 Summer</td>\n",
       "      <td>1976</td>\n",
       "      <td>Summer</td>\n",
       "      <td>Montreal</td>\n",
       "      <td>Swimming</td>\n",
       "      <td>Swimming Men's 4 x 200 metres Freestyle Relay</td>\n",
       "      <td>NaN</td>\n",
       "    </tr>\n",
       "    <tr>\n",
       "      <th>1022</th>\n",
       "      <td>572</td>\n",
       "      <td>Rui Pinto de Abreu</td>\n",
       "      <td>M</td>\n",
       "      <td>19.0</td>\n",
       "      <td>177.0</td>\n",
       "      <td>64.0</td>\n",
       "      <td>Portugal</td>\n",
       "      <td>POR</td>\n",
       "      <td>1980 Summer</td>\n",
       "      <td>1980</td>\n",
       "      <td>Summer</td>\n",
       "      <td>Moskva</td>\n",
       "      <td>Swimming</td>\n",
       "      <td>Swimming Men's 100 metres Freestyle</td>\n",
       "      <td>NaN</td>\n",
       "    </tr>\n",
       "  </tbody>\n",
       "</table>\n",
       "<p>1023 rows × 15 columns</p>\n",
       "</div>"
      ],
      "text/plain": [
       "       ID                      Name Sex   Age  Height  Weight            Team  \\\n",
       "0       1                 A Dijiang   M  24.0   180.0    80.0           China   \n",
       "1       2                  A Lamusi   M  23.0   170.0    60.0           China   \n",
       "2       3       Gunnar Nielsen Aaby   M  24.0     NaN     NaN         Denmark   \n",
       "3       4      Edgar Lindenau Aabye   M  34.0     NaN     NaN  Denmark/Sweden   \n",
       "4       5  Christine Jacoba Aaftink   F  21.0   185.0    82.0     Netherlands   \n",
       "...   ...                       ...  ..   ...     ...     ...             ...   \n",
       "1018  570        Pedro Abreu Pascal   M  23.0   200.0    88.0            Cuba   \n",
       "1019  571         Rubn Abreu Rivero   M  24.0   177.0    71.0       Venezuela   \n",
       "1020  572        Rui Pinto de Abreu   M  15.0   177.0    64.0        Portugal   \n",
       "1021  572        Rui Pinto de Abreu   M  15.0   177.0    64.0        Portugal   \n",
       "1022  572        Rui Pinto de Abreu   M  19.0   177.0    64.0        Portugal   \n",
       "\n",
       "      NOC        Games  Year  Season       City          Sport  \\\n",
       "0     CHN  1992 Summer  1992  Summer  Barcelona     Basketball   \n",
       "1     CHN  2012 Summer  2012  Summer     London           Judo   \n",
       "2     DEN  1920 Summer  1920  Summer  Antwerpen       Football   \n",
       "3     DEN  1900 Summer  1900  Summer      Paris     Tug-Of-War   \n",
       "4     NED  1988 Winter  1988  Winter    Calgary  Speed Skating   \n",
       "...   ...          ...   ...     ...        ...            ...   \n",
       "1018  CUB  1980 Summer  1980  Summer     Moskva     Basketball   \n",
       "1019  VEN  1996 Summer  1996  Summer    Atlanta        Cycling   \n",
       "1020  POR  1976 Summer  1976  Summer   Montreal       Swimming   \n",
       "1021  POR  1976 Summer  1976  Summer   Montreal       Swimming   \n",
       "1022  POR  1980 Summer  1980  Summer     Moskva       Swimming   \n",
       "\n",
       "                                              Event Medal  \n",
       "0                       Basketball Men's Basketball   NaN  \n",
       "1                      Judo Men's Extra-Lightweight   NaN  \n",
       "2                           Football Men's Football   NaN  \n",
       "3                       Tug-Of-War Men's Tug-Of-War  Gold  \n",
       "4                  Speed Skating Women's 500 metres   NaN  \n",
       "...                                             ...   ...  \n",
       "1018                    Basketball Men's Basketball   NaN  \n",
       "1019            Cycling Men's Road Race, Individual   NaN  \n",
       "1020            Swimming Men's 400 metres Freestyle   NaN  \n",
       "1021  Swimming Men's 4 x 200 metres Freestyle Relay   NaN  \n",
       "1022            Swimming Men's 100 metres Freestyle   NaN  \n",
       "\n",
       "[1023 rows x 15 columns]"
      ]
     },
     "execution_count": 3,
     "metadata": {},
     "output_type": "execute_result"
    }
   ],
   "source": [
    "data"
   ]
  },
  {
   "cell_type": "markdown",
   "metadata": {
    "id": "MD5O_slAKiTn"
   },
   "source": [
    "## Data Inspecting and Cleaning"
   ]
  },
  {
   "cell_type": "code",
   "execution_count": 4,
   "metadata": {
    "colab": {
     "base_uri": "https://localhost:8080/"
    },
    "id": "Uwo9YYzoa7fM",
    "outputId": "54e1a284-2f31-4933-88ca-8734765db44c"
   },
   "outputs": [
    {
     "name": "stdout",
     "output_type": "stream",
     "text": [
      "<class 'pandas.core.frame.DataFrame'>\n",
      "RangeIndex: 1023 entries, 0 to 1022\n",
      "Data columns (total 15 columns):\n",
      " #   Column  Non-Null Count  Dtype  \n",
      "---  ------  --------------  -----  \n",
      " 0   ID      1023 non-null   int64  \n",
      " 1   Name    1023 non-null   object \n",
      " 2   Sex     1023 non-null   object \n",
      " 3   Age     959 non-null    float64\n",
      " 4   Height  773 non-null    float64\n",
      " 5   Weight  776 non-null    float64\n",
      " 6   Team    1023 non-null   object \n",
      " 7   NOC     1023 non-null   object \n",
      " 8   Games   1023 non-null   object \n",
      " 9   Year    1023 non-null   int64  \n",
      " 10  Season  1023 non-null   object \n",
      " 11  City    1023 non-null   object \n",
      " 12  Sport   1023 non-null   object \n",
      " 13  Event   1023 non-null   object \n",
      " 14  Medal   112 non-null    object \n",
      "dtypes: float64(3), int64(2), object(10)\n",
      "memory usage: 120.0+ KB\n"
     ]
    }
   ],
   "source": [
    "data.info()\n"
   ]
  },
  {
   "cell_type": "code",
   "execution_count": 5,
   "metadata": {},
   "outputs": [
    {
     "data": {
      "text/html": [
       "<div>\n",
       "<style scoped>\n",
       "    .dataframe tbody tr th:only-of-type {\n",
       "        vertical-align: middle;\n",
       "    }\n",
       "\n",
       "    .dataframe tbody tr th {\n",
       "        vertical-align: top;\n",
       "    }\n",
       "\n",
       "    .dataframe thead th {\n",
       "        text-align: right;\n",
       "    }\n",
       "</style>\n",
       "<table border=\"1\" class=\"dataframe\">\n",
       "  <thead>\n",
       "    <tr style=\"text-align: right;\">\n",
       "      <th></th>\n",
       "      <th>ID</th>\n",
       "      <th>Age</th>\n",
       "      <th>Height</th>\n",
       "      <th>Weight</th>\n",
       "      <th>Year</th>\n",
       "    </tr>\n",
       "  </thead>\n",
       "  <tbody>\n",
       "    <tr>\n",
       "      <th>count</th>\n",
       "      <td>1023.000000</td>\n",
       "      <td>959.000000</td>\n",
       "      <td>773.000000</td>\n",
       "      <td>776.000000</td>\n",
       "      <td>1023.000000</td>\n",
       "    </tr>\n",
       "    <tr>\n",
       "      <th>mean</th>\n",
       "      <td>284.633431</td>\n",
       "      <td>25.459854</td>\n",
       "      <td>175.839586</td>\n",
       "      <td>71.772552</td>\n",
       "      <td>1983.036168</td>\n",
       "    </tr>\n",
       "    <tr>\n",
       "      <th>std</th>\n",
       "      <td>174.918218</td>\n",
       "      <td>5.892230</td>\n",
       "      <td>10.014246</td>\n",
       "      <td>13.897881</td>\n",
       "      <td>27.231803</td>\n",
       "    </tr>\n",
       "    <tr>\n",
       "      <th>min</th>\n",
       "      <td>1.000000</td>\n",
       "      <td>14.000000</td>\n",
       "      <td>147.000000</td>\n",
       "      <td>40.000000</td>\n",
       "      <td>1900.000000</td>\n",
       "    </tr>\n",
       "    <tr>\n",
       "      <th>25%</th>\n",
       "      <td>127.500000</td>\n",
       "      <td>21.000000</td>\n",
       "      <td>169.000000</td>\n",
       "      <td>62.000000</td>\n",
       "      <td>1968.000000</td>\n",
       "    </tr>\n",
       "    <tr>\n",
       "      <th>50%</th>\n",
       "      <td>285.000000</td>\n",
       "      <td>24.000000</td>\n",
       "      <td>176.000000</td>\n",
       "      <td>72.000000</td>\n",
       "      <td>1992.000000</td>\n",
       "    </tr>\n",
       "    <tr>\n",
       "      <th>75%</th>\n",
       "      <td>439.500000</td>\n",
       "      <td>28.000000</td>\n",
       "      <td>183.000000</td>\n",
       "      <td>80.000000</td>\n",
       "      <td>2004.000000</td>\n",
       "    </tr>\n",
       "    <tr>\n",
       "      <th>max</th>\n",
       "      <td>572.000000</td>\n",
       "      <td>57.000000</td>\n",
       "      <td>210.000000</td>\n",
       "      <td>130.000000</td>\n",
       "      <td>2016.000000</td>\n",
       "    </tr>\n",
       "  </tbody>\n",
       "</table>\n",
       "</div>"
      ],
      "text/plain": [
       "                ID         Age      Height      Weight         Year\n",
       "count  1023.000000  959.000000  773.000000  776.000000  1023.000000\n",
       "mean    284.633431   25.459854  175.839586   71.772552  1983.036168\n",
       "std     174.918218    5.892230   10.014246   13.897881    27.231803\n",
       "min       1.000000   14.000000  147.000000   40.000000  1900.000000\n",
       "25%     127.500000   21.000000  169.000000   62.000000  1968.000000\n",
       "50%     285.000000   24.000000  176.000000   72.000000  1992.000000\n",
       "75%     439.500000   28.000000  183.000000   80.000000  2004.000000\n",
       "max     572.000000   57.000000  210.000000  130.000000  2016.000000"
      ]
     },
     "execution_count": 5,
     "metadata": {},
     "output_type": "execute_result"
    }
   ],
   "source": [
    "data.describe()"
   ]
  },
  {
   "cell_type": "code",
   "execution_count": 6,
   "metadata": {
    "colab": {
     "base_uri": "https://localhost:8080/"
    },
    "id": "0CwtauhnbB33",
    "outputId": "e5f36092-ae43-41ee-a720-2adce277e365"
   },
   "outputs": [
    {
     "data": {
      "text/plain": [
       "(1023, 15)"
      ]
     },
     "execution_count": 6,
     "metadata": {},
     "output_type": "execute_result"
    }
   ],
   "source": [
    "data.shape"
   ]
  },
  {
   "cell_type": "code",
   "execution_count": 7,
   "metadata": {
    "colab": {
     "base_uri": "https://localhost:8080/"
    },
    "id": "qvapjH0BbdsS",
    "outputId": "c39bb866-a7f6-4b33-9ee5-61cf1407ef76"
   },
   "outputs": [
    {
     "data": {
      "text/plain": [
       "Gold      45\n",
       "Bronze    34\n",
       "Silver    33\n",
       "Name: Medal, dtype: int64"
      ]
     },
     "execution_count": 7,
     "metadata": {},
     "output_type": "execute_result"
    }
   ],
   "source": [
    "data['Medal'].value_counts()"
   ]
  },
  {
   "cell_type": "code",
   "execution_count": 8,
   "metadata": {
    "colab": {
     "base_uri": "https://localhost:8080/"
    },
    "id": "OJQ1pEPPlTPm",
    "outputId": "3316688f-8a7a-4b75-f6db-caed0a6d3516"
   },
   "outputs": [
    {
     "data": {
      "text/plain": [
       "Egypt            189\n",
       "Norway            59\n",
       "United States     41\n",
       "Finland           34\n",
       "Japan             27\n",
       "                ... \n",
       "Uruguay            1\n",
       "Angola             1\n",
       "Denmark            1\n",
       "France-1           1\n",
       "Eritrea            1\n",
       "Name: Team, Length: 115, dtype: int64"
      ]
     },
     "execution_count": 8,
     "metadata": {},
     "output_type": "execute_result"
    }
   ],
   "source": [
    "data['Team'].value_counts()"
   ]
  },
  {
   "cell_type": "code",
   "execution_count": 9,
   "metadata": {
    "id": "TDWWzuOLbKsk"
   },
   "outputs": [],
   "source": [
    "# To fill missing values in Medal column\n",
    "data['Medal'] = data['Medal'].apply(lambda x: 1 if str(x) != 'nan' else 0)\n"
   ]
  },
  {
   "cell_type": "code",
   "execution_count": 10,
   "metadata": {
    "colab": {
     "base_uri": "https://localhost:8080/",
     "height": 417
    },
    "id": "t6Q4cGKwbNne",
    "outputId": "04198b4d-b752-4927-c56e-e03015ba629a"
   },
   "outputs": [
    {
     "data": {
      "text/plain": [
       "ID          0\n",
       "Name        0\n",
       "Sex         0\n",
       "Age        64\n",
       "Height    250\n",
       "Weight    247\n",
       "Team        0\n",
       "NOC         0\n",
       "Games       0\n",
       "Year        0\n",
       "Season      0\n",
       "City        0\n",
       "Sport       0\n",
       "Event       0\n",
       "Medal       0\n",
       "dtype: int64"
      ]
     },
     "execution_count": 10,
     "metadata": {},
     "output_type": "execute_result"
    }
   ],
   "source": [
    "data.isnull().sum()"
   ]
  },
  {
   "cell_type": "code",
   "execution_count": 11,
   "metadata": {
    "id": "SQ7KbbKIbX6o"
   },
   "outputs": [],
   "source": [
    "# Drop Uncessary columns\n",
    "data = data.drop(['ID', 'Name', 'Games'], axis=1)\n"
   ]
  },
  {
   "cell_type": "code",
   "execution_count": 12,
   "metadata": {
    "colab": {
     "base_uri": "https://localhost:8080/"
    },
    "id": "ZjXJ2x3cbz2O",
    "outputId": "4b365368-2ac6-433d-d2eb-c79dc1d03e5a"
   },
   "outputs": [
    {
     "data": {
      "text/plain": [
       "Sex       0.000000\n",
       "Age       0.062561\n",
       "Height    0.244379\n",
       "Weight    0.241447\n",
       "Team      0.000000\n",
       "NOC       0.000000\n",
       "Year      0.000000\n",
       "Season    0.000000\n",
       "City      0.000000\n",
       "Sport     0.000000\n",
       "Event     0.000000\n",
       "Medal     0.000000\n",
       "dtype: float64"
      ]
     },
     "execution_count": 12,
     "metadata": {},
     "output_type": "execute_result"
    }
   ],
   "source": [
    "# Checking null values in the data \n",
    "data.isna().mean()\n"
   ]
  },
  {
   "cell_type": "code",
   "execution_count": 13,
   "metadata": {
    "colab": {
     "base_uri": "https://localhost:8080/",
     "height": 203
    },
    "id": "_7N45YzIb7oJ",
    "outputId": "318c31da-a074-4c94-e135-8faac5f08806"
   },
   "outputs": [
    {
     "data": {
      "text/html": [
       "<div>\n",
       "<style scoped>\n",
       "    .dataframe tbody tr th:only-of-type {\n",
       "        vertical-align: middle;\n",
       "    }\n",
       "\n",
       "    .dataframe tbody tr th {\n",
       "        vertical-align: top;\n",
       "    }\n",
       "\n",
       "    .dataframe thead th {\n",
       "        text-align: right;\n",
       "    }\n",
       "</style>\n",
       "<table border=\"1\" class=\"dataframe\">\n",
       "  <thead>\n",
       "    <tr style=\"text-align: right;\">\n",
       "      <th></th>\n",
       "      <th></th>\n",
       "      <th>Age</th>\n",
       "      <th>Height</th>\n",
       "      <th>Weight</th>\n",
       "      <th>Year</th>\n",
       "    </tr>\n",
       "    <tr>\n",
       "      <th>Medal</th>\n",
       "      <th>Sex</th>\n",
       "      <th></th>\n",
       "      <th></th>\n",
       "      <th></th>\n",
       "      <th></th>\n",
       "    </tr>\n",
       "  </thead>\n",
       "  <tbody>\n",
       "    <tr>\n",
       "      <th rowspan=\"2\" valign=\"top\">0</th>\n",
       "      <th>F</th>\n",
       "      <td>23</td>\n",
       "      <td>166</td>\n",
       "      <td>60</td>\n",
       "      <td>1997</td>\n",
       "    </tr>\n",
       "    <tr>\n",
       "      <th>M</th>\n",
       "      <td>25</td>\n",
       "      <td>177</td>\n",
       "      <td>73</td>\n",
       "      <td>1980</td>\n",
       "    </tr>\n",
       "    <tr>\n",
       "      <th rowspan=\"2\" valign=\"top\">1</th>\n",
       "      <th>F</th>\n",
       "      <td>21</td>\n",
       "      <td>169</td>\n",
       "      <td>60</td>\n",
       "      <td>1989</td>\n",
       "    </tr>\n",
       "    <tr>\n",
       "      <th>M</th>\n",
       "      <td>25</td>\n",
       "      <td>179</td>\n",
       "      <td>79</td>\n",
       "      <td>1974</td>\n",
       "    </tr>\n",
       "  </tbody>\n",
       "</table>\n",
       "</div>"
      ],
      "text/plain": [
       "           Age  Height  Weight  Year\n",
       "Medal Sex                           \n",
       "0     F     23     166      60  1997\n",
       "      M     25     177      73  1980\n",
       "1     F     21     169      60  1989\n",
       "      M     25     179      79  1974"
      ]
     },
     "execution_count": 13,
     "metadata": {},
     "output_type": "execute_result"
    }
   ],
   "source": [
    "data.groupby(['Medal', 'Sex']).mean().astype(np.int)"
   ]
  },
  {
   "cell_type": "code",
   "execution_count": 14,
   "metadata": {
    "id": "ORvFDQ4tcJNi"
   },
   "outputs": [],
   "source": [
    "# Fill null values with mean values for these columns\n",
    "for column in ['Age', 'Height', 'Weight']:\n",
    "    data[column] = data.groupby(['Medal', 'Sex'])[column].apply(lambda x: x.fillna(x.mean()).astype(np.int))"
   ]
  },
  {
   "cell_type": "code",
   "execution_count": 15,
   "metadata": {
    "colab": {
     "base_uri": "https://localhost:8080/"
    },
    "id": "JNqzrYwEd5DG",
    "outputId": "7c0cd5f0-3c9b-4f07-8d8c-cbf7661b78da"
   },
   "outputs": [
    {
     "name": "stdout",
     "output_type": "stream",
     "text": [
      "Total missing values: 0\n"
     ]
    }
   ],
   "source": [
    "print(\"Total missing values:\", data.isna().sum().sum())\n"
   ]
  },
  {
   "cell_type": "code",
   "execution_count": 16,
   "metadata": {
    "colab": {
     "base_uri": "https://localhost:8080/",
     "height": 417
    },
    "id": "V0JTUggxd9Y9",
    "outputId": "b0444b06-f6aa-4bfc-e08f-1c0f35b4f7fc"
   },
   "outputs": [
    {
     "data": {
      "text/html": [
       "<div>\n",
       "<style scoped>\n",
       "    .dataframe tbody tr th:only-of-type {\n",
       "        vertical-align: middle;\n",
       "    }\n",
       "\n",
       "    .dataframe tbody tr th {\n",
       "        vertical-align: top;\n",
       "    }\n",
       "\n",
       "    .dataframe thead th {\n",
       "        text-align: right;\n",
       "    }\n",
       "</style>\n",
       "<table border=\"1\" class=\"dataframe\">\n",
       "  <thead>\n",
       "    <tr style=\"text-align: right;\">\n",
       "      <th></th>\n",
       "      <th>Sex</th>\n",
       "      <th>Age</th>\n",
       "      <th>Height</th>\n",
       "      <th>Weight</th>\n",
       "      <th>Team</th>\n",
       "      <th>NOC</th>\n",
       "      <th>Year</th>\n",
       "      <th>Season</th>\n",
       "      <th>City</th>\n",
       "      <th>Sport</th>\n",
       "      <th>Event</th>\n",
       "      <th>Medal</th>\n",
       "    </tr>\n",
       "  </thead>\n",
       "  <tbody>\n",
       "    <tr>\n",
       "      <th>0</th>\n",
       "      <td>M</td>\n",
       "      <td>24</td>\n",
       "      <td>180</td>\n",
       "      <td>80</td>\n",
       "      <td>China</td>\n",
       "      <td>CHN</td>\n",
       "      <td>1992</td>\n",
       "      <td>Summer</td>\n",
       "      <td>Barcelona</td>\n",
       "      <td>Basketball</td>\n",
       "      <td>Basketball Men's Basketball</td>\n",
       "      <td>0</td>\n",
       "    </tr>\n",
       "    <tr>\n",
       "      <th>1</th>\n",
       "      <td>M</td>\n",
       "      <td>23</td>\n",
       "      <td>170</td>\n",
       "      <td>60</td>\n",
       "      <td>China</td>\n",
       "      <td>CHN</td>\n",
       "      <td>2012</td>\n",
       "      <td>Summer</td>\n",
       "      <td>London</td>\n",
       "      <td>Judo</td>\n",
       "      <td>Judo Men's Extra-Lightweight</td>\n",
       "      <td>0</td>\n",
       "    </tr>\n",
       "    <tr>\n",
       "      <th>2</th>\n",
       "      <td>M</td>\n",
       "      <td>24</td>\n",
       "      <td>177</td>\n",
       "      <td>73</td>\n",
       "      <td>Denmark</td>\n",
       "      <td>DEN</td>\n",
       "      <td>1920</td>\n",
       "      <td>Summer</td>\n",
       "      <td>Antwerpen</td>\n",
       "      <td>Football</td>\n",
       "      <td>Football Men's Football</td>\n",
       "      <td>0</td>\n",
       "    </tr>\n",
       "    <tr>\n",
       "      <th>3</th>\n",
       "      <td>M</td>\n",
       "      <td>34</td>\n",
       "      <td>179</td>\n",
       "      <td>79</td>\n",
       "      <td>Denmark/Sweden</td>\n",
       "      <td>DEN</td>\n",
       "      <td>1900</td>\n",
       "      <td>Summer</td>\n",
       "      <td>Paris</td>\n",
       "      <td>Tug-Of-War</td>\n",
       "      <td>Tug-Of-War Men's Tug-Of-War</td>\n",
       "      <td>1</td>\n",
       "    </tr>\n",
       "    <tr>\n",
       "      <th>4</th>\n",
       "      <td>F</td>\n",
       "      <td>21</td>\n",
       "      <td>185</td>\n",
       "      <td>82</td>\n",
       "      <td>Netherlands</td>\n",
       "      <td>NED</td>\n",
       "      <td>1988</td>\n",
       "      <td>Winter</td>\n",
       "      <td>Calgary</td>\n",
       "      <td>Speed Skating</td>\n",
       "      <td>Speed Skating Women's 500 metres</td>\n",
       "      <td>0</td>\n",
       "    </tr>\n",
       "    <tr>\n",
       "      <th>...</th>\n",
       "      <td>...</td>\n",
       "      <td>...</td>\n",
       "      <td>...</td>\n",
       "      <td>...</td>\n",
       "      <td>...</td>\n",
       "      <td>...</td>\n",
       "      <td>...</td>\n",
       "      <td>...</td>\n",
       "      <td>...</td>\n",
       "      <td>...</td>\n",
       "      <td>...</td>\n",
       "      <td>...</td>\n",
       "    </tr>\n",
       "    <tr>\n",
       "      <th>1018</th>\n",
       "      <td>M</td>\n",
       "      <td>23</td>\n",
       "      <td>200</td>\n",
       "      <td>88</td>\n",
       "      <td>Cuba</td>\n",
       "      <td>CUB</td>\n",
       "      <td>1980</td>\n",
       "      <td>Summer</td>\n",
       "      <td>Moskva</td>\n",
       "      <td>Basketball</td>\n",
       "      <td>Basketball Men's Basketball</td>\n",
       "      <td>0</td>\n",
       "    </tr>\n",
       "    <tr>\n",
       "      <th>1019</th>\n",
       "      <td>M</td>\n",
       "      <td>24</td>\n",
       "      <td>177</td>\n",
       "      <td>71</td>\n",
       "      <td>Venezuela</td>\n",
       "      <td>VEN</td>\n",
       "      <td>1996</td>\n",
       "      <td>Summer</td>\n",
       "      <td>Atlanta</td>\n",
       "      <td>Cycling</td>\n",
       "      <td>Cycling Men's Road Race, Individual</td>\n",
       "      <td>0</td>\n",
       "    </tr>\n",
       "    <tr>\n",
       "      <th>1020</th>\n",
       "      <td>M</td>\n",
       "      <td>15</td>\n",
       "      <td>177</td>\n",
       "      <td>64</td>\n",
       "      <td>Portugal</td>\n",
       "      <td>POR</td>\n",
       "      <td>1976</td>\n",
       "      <td>Summer</td>\n",
       "      <td>Montreal</td>\n",
       "      <td>Swimming</td>\n",
       "      <td>Swimming Men's 400 metres Freestyle</td>\n",
       "      <td>0</td>\n",
       "    </tr>\n",
       "    <tr>\n",
       "      <th>1021</th>\n",
       "      <td>M</td>\n",
       "      <td>15</td>\n",
       "      <td>177</td>\n",
       "      <td>64</td>\n",
       "      <td>Portugal</td>\n",
       "      <td>POR</td>\n",
       "      <td>1976</td>\n",
       "      <td>Summer</td>\n",
       "      <td>Montreal</td>\n",
       "      <td>Swimming</td>\n",
       "      <td>Swimming Men's 4 x 200 metres Freestyle Relay</td>\n",
       "      <td>0</td>\n",
       "    </tr>\n",
       "    <tr>\n",
       "      <th>1022</th>\n",
       "      <td>M</td>\n",
       "      <td>19</td>\n",
       "      <td>177</td>\n",
       "      <td>64</td>\n",
       "      <td>Portugal</td>\n",
       "      <td>POR</td>\n",
       "      <td>1980</td>\n",
       "      <td>Summer</td>\n",
       "      <td>Moskva</td>\n",
       "      <td>Swimming</td>\n",
       "      <td>Swimming Men's 100 metres Freestyle</td>\n",
       "      <td>0</td>\n",
       "    </tr>\n",
       "  </tbody>\n",
       "</table>\n",
       "<p>1023 rows × 12 columns</p>\n",
       "</div>"
      ],
      "text/plain": [
       "     Sex  Age  Height  Weight            Team  NOC  Year  Season       City  \\\n",
       "0      M   24     180      80           China  CHN  1992  Summer  Barcelona   \n",
       "1      M   23     170      60           China  CHN  2012  Summer     London   \n",
       "2      M   24     177      73         Denmark  DEN  1920  Summer  Antwerpen   \n",
       "3      M   34     179      79  Denmark/Sweden  DEN  1900  Summer      Paris   \n",
       "4      F   21     185      82     Netherlands  NED  1988  Winter    Calgary   \n",
       "...   ..  ...     ...     ...             ...  ...   ...     ...        ...   \n",
       "1018   M   23     200      88            Cuba  CUB  1980  Summer     Moskva   \n",
       "1019   M   24     177      71       Venezuela  VEN  1996  Summer    Atlanta   \n",
       "1020   M   15     177      64        Portugal  POR  1976  Summer   Montreal   \n",
       "1021   M   15     177      64        Portugal  POR  1976  Summer   Montreal   \n",
       "1022   M   19     177      64        Portugal  POR  1980  Summer     Moskva   \n",
       "\n",
       "              Sport                                          Event  Medal  \n",
       "0        Basketball                    Basketball Men's Basketball      0  \n",
       "1              Judo                   Judo Men's Extra-Lightweight      0  \n",
       "2          Football                        Football Men's Football      0  \n",
       "3        Tug-Of-War                    Tug-Of-War Men's Tug-Of-War      1  \n",
       "4     Speed Skating               Speed Skating Women's 500 metres      0  \n",
       "...             ...                                            ...    ...  \n",
       "1018     Basketball                    Basketball Men's Basketball      0  \n",
       "1019        Cycling            Cycling Men's Road Race, Individual      0  \n",
       "1020       Swimming            Swimming Men's 400 metres Freestyle      0  \n",
       "1021       Swimming  Swimming Men's 4 x 200 metres Freestyle Relay      0  \n",
       "1022       Swimming            Swimming Men's 100 metres Freestyle      0  \n",
       "\n",
       "[1023 rows x 12 columns]"
      ]
     },
     "execution_count": 16,
     "metadata": {},
     "output_type": "execute_result"
    }
   ],
   "source": [
    "data"
   ]
  },
  {
   "cell_type": "code",
   "execution_count": 17,
   "metadata": {
    "colab": {
     "base_uri": "https://localhost:8080/"
    },
    "id": "N9wfMNE1eEAd",
    "outputId": "afc58a6c-1839-4217-a573-7b7bf0e218fb"
   },
   "outputs": [
    {
     "data": {
      "text/plain": [
       "{'Sex': 2,\n",
       " 'Team': 115,\n",
       " 'NOC': 106,\n",
       " 'Season': 2,\n",
       " 'City': 41,\n",
       " 'Sport': 47,\n",
       " 'Event': 272}"
      ]
     },
     "execution_count": 17,
     "metadata": {},
     "output_type": "execute_result"
    }
   ],
   "source": [
    "# Checking no of unique values in the column\n",
    "{column: len(data[column].unique()) for column in data.select_dtypes('object').columns}"
   ]
  },
  {
   "cell_type": "code",
   "execution_count": 18,
   "metadata": {
    "id": "CkAeDJeLeKA2"
   },
   "outputs": [],
   "source": [
    "def binary_encode(df, columns, positive_values):\n",
    "    df = df.copy()\n",
    "    for column, positive_value in zip(columns, positive_values):\n",
    "        df[column] = df[column].apply(lambda x: 1 if x == positive_value else 0)\n",
    "    return df\n",
    "\n",
    "def onehot_encode(df, columns, prefixes):\n",
    "    df = df.copy()\n",
    "    for column, prefix in zip(columns, prefixes):\n",
    "        dummies = pd.get_dummies(df[column], prefix=prefix)\n",
    "        df = pd.concat([df, dummies], axis=1)\n",
    "        df = df.drop(column, axis=1)\n",
    "    return df"
   ]
  },
  {
   "cell_type": "code",
   "execution_count": 19,
   "metadata": {
    "id": "9hQr8RC3eOSR"
   },
   "outputs": [],
   "source": [
    "data = binary_encode(\n",
    "    data,\n",
    "    columns=['Sex', 'Season'],\n",
    "    positive_values=['M', 'Summer']\n",
    ")\n",
    "\n",
    "data = onehot_encode(\n",
    "    data,\n",
    "    columns=['Team', 'NOC', 'City', 'Sport', 'Event'],\n",
    "    prefixes=['T', 'N', 'C', 'S', 'E']\n",
    ")"
   ]
  },
  {
   "cell_type": "code",
   "execution_count": 20,
   "metadata": {
    "colab": {
     "base_uri": "https://localhost:8080/",
     "height": 504
    },
    "id": "YmJHOcRweWzd",
    "outputId": "24f2c9a6-29c6-4b8b-c108-776c107552f9",
    "scrolled": true
   },
   "outputs": [
    {
     "data": {
      "text/html": [
       "<div>\n",
       "<style scoped>\n",
       "    .dataframe tbody tr th:only-of-type {\n",
       "        vertical-align: middle;\n",
       "    }\n",
       "\n",
       "    .dataframe tbody tr th {\n",
       "        vertical-align: top;\n",
       "    }\n",
       "\n",
       "    .dataframe thead th {\n",
       "        text-align: right;\n",
       "    }\n",
       "</style>\n",
       "<table border=\"1\" class=\"dataframe\">\n",
       "  <thead>\n",
       "    <tr style=\"text-align: right;\">\n",
       "      <th></th>\n",
       "      <th>Sex</th>\n",
       "      <th>Age</th>\n",
       "      <th>Height</th>\n",
       "      <th>Weight</th>\n",
       "      <th>Year</th>\n",
       "      <th>Season</th>\n",
       "      <th>Medal</th>\n",
       "      <th>T_Afghanistan</th>\n",
       "      <th>T_Algeria</th>\n",
       "      <th>T_Angola</th>\n",
       "      <th>...</th>\n",
       "      <th>E_Wrestling Men's Light-Heavyweight, Freestyle</th>\n",
       "      <th>E_Wrestling Men's Light-Heavyweight, Greco-Roman</th>\n",
       "      <th>E_Wrestling Men's Lightweight, Freestyle</th>\n",
       "      <th>E_Wrestling Men's Lightweight, Greco-Roman</th>\n",
       "      <th>E_Wrestling Men's Middleweight A, Greco-Roman</th>\n",
       "      <th>E_Wrestling Men's Middleweight, Freestyle</th>\n",
       "      <th>E_Wrestling Men's Middleweight, Greco-Roman</th>\n",
       "      <th>E_Wrestling Men's Super-Heavyweight, Greco-Roman</th>\n",
       "      <th>E_Wrestling Men's Welterweight, Freestyle</th>\n",
       "      <th>E_Wrestling Men's Welterweight, Greco-Roman</th>\n",
       "    </tr>\n",
       "  </thead>\n",
       "  <tbody>\n",
       "    <tr>\n",
       "      <th>0</th>\n",
       "      <td>1</td>\n",
       "      <td>24</td>\n",
       "      <td>180</td>\n",
       "      <td>80</td>\n",
       "      <td>1992</td>\n",
       "      <td>1</td>\n",
       "      <td>0</td>\n",
       "      <td>0</td>\n",
       "      <td>0</td>\n",
       "      <td>0</td>\n",
       "      <td>...</td>\n",
       "      <td>0</td>\n",
       "      <td>0</td>\n",
       "      <td>0</td>\n",
       "      <td>0</td>\n",
       "      <td>0</td>\n",
       "      <td>0</td>\n",
       "      <td>0</td>\n",
       "      <td>0</td>\n",
       "      <td>0</td>\n",
       "      <td>0</td>\n",
       "    </tr>\n",
       "    <tr>\n",
       "      <th>1</th>\n",
       "      <td>1</td>\n",
       "      <td>23</td>\n",
       "      <td>170</td>\n",
       "      <td>60</td>\n",
       "      <td>2012</td>\n",
       "      <td>1</td>\n",
       "      <td>0</td>\n",
       "      <td>0</td>\n",
       "      <td>0</td>\n",
       "      <td>0</td>\n",
       "      <td>...</td>\n",
       "      <td>0</td>\n",
       "      <td>0</td>\n",
       "      <td>0</td>\n",
       "      <td>0</td>\n",
       "      <td>0</td>\n",
       "      <td>0</td>\n",
       "      <td>0</td>\n",
       "      <td>0</td>\n",
       "      <td>0</td>\n",
       "      <td>0</td>\n",
       "    </tr>\n",
       "    <tr>\n",
       "      <th>2</th>\n",
       "      <td>1</td>\n",
       "      <td>24</td>\n",
       "      <td>177</td>\n",
       "      <td>73</td>\n",
       "      <td>1920</td>\n",
       "      <td>1</td>\n",
       "      <td>0</td>\n",
       "      <td>0</td>\n",
       "      <td>0</td>\n",
       "      <td>0</td>\n",
       "      <td>...</td>\n",
       "      <td>0</td>\n",
       "      <td>0</td>\n",
       "      <td>0</td>\n",
       "      <td>0</td>\n",
       "      <td>0</td>\n",
       "      <td>0</td>\n",
       "      <td>0</td>\n",
       "      <td>0</td>\n",
       "      <td>0</td>\n",
       "      <td>0</td>\n",
       "    </tr>\n",
       "    <tr>\n",
       "      <th>3</th>\n",
       "      <td>1</td>\n",
       "      <td>34</td>\n",
       "      <td>179</td>\n",
       "      <td>79</td>\n",
       "      <td>1900</td>\n",
       "      <td>1</td>\n",
       "      <td>1</td>\n",
       "      <td>0</td>\n",
       "      <td>0</td>\n",
       "      <td>0</td>\n",
       "      <td>...</td>\n",
       "      <td>0</td>\n",
       "      <td>0</td>\n",
       "      <td>0</td>\n",
       "      <td>0</td>\n",
       "      <td>0</td>\n",
       "      <td>0</td>\n",
       "      <td>0</td>\n",
       "      <td>0</td>\n",
       "      <td>0</td>\n",
       "      <td>0</td>\n",
       "    </tr>\n",
       "    <tr>\n",
       "      <th>4</th>\n",
       "      <td>0</td>\n",
       "      <td>21</td>\n",
       "      <td>185</td>\n",
       "      <td>82</td>\n",
       "      <td>1988</td>\n",
       "      <td>0</td>\n",
       "      <td>0</td>\n",
       "      <td>0</td>\n",
       "      <td>0</td>\n",
       "      <td>0</td>\n",
       "      <td>...</td>\n",
       "      <td>0</td>\n",
       "      <td>0</td>\n",
       "      <td>0</td>\n",
       "      <td>0</td>\n",
       "      <td>0</td>\n",
       "      <td>0</td>\n",
       "      <td>0</td>\n",
       "      <td>0</td>\n",
       "      <td>0</td>\n",
       "      <td>0</td>\n",
       "    </tr>\n",
       "    <tr>\n",
       "      <th>...</th>\n",
       "      <td>...</td>\n",
       "      <td>...</td>\n",
       "      <td>...</td>\n",
       "      <td>...</td>\n",
       "      <td>...</td>\n",
       "      <td>...</td>\n",
       "      <td>...</td>\n",
       "      <td>...</td>\n",
       "      <td>...</td>\n",
       "      <td>...</td>\n",
       "      <td>...</td>\n",
       "      <td>...</td>\n",
       "      <td>...</td>\n",
       "      <td>...</td>\n",
       "      <td>...</td>\n",
       "      <td>...</td>\n",
       "      <td>...</td>\n",
       "      <td>...</td>\n",
       "      <td>...</td>\n",
       "      <td>...</td>\n",
       "      <td>...</td>\n",
       "    </tr>\n",
       "    <tr>\n",
       "      <th>1018</th>\n",
       "      <td>1</td>\n",
       "      <td>23</td>\n",
       "      <td>200</td>\n",
       "      <td>88</td>\n",
       "      <td>1980</td>\n",
       "      <td>1</td>\n",
       "      <td>0</td>\n",
       "      <td>0</td>\n",
       "      <td>0</td>\n",
       "      <td>0</td>\n",
       "      <td>...</td>\n",
       "      <td>0</td>\n",
       "      <td>0</td>\n",
       "      <td>0</td>\n",
       "      <td>0</td>\n",
       "      <td>0</td>\n",
       "      <td>0</td>\n",
       "      <td>0</td>\n",
       "      <td>0</td>\n",
       "      <td>0</td>\n",
       "      <td>0</td>\n",
       "    </tr>\n",
       "    <tr>\n",
       "      <th>1019</th>\n",
       "      <td>1</td>\n",
       "      <td>24</td>\n",
       "      <td>177</td>\n",
       "      <td>71</td>\n",
       "      <td>1996</td>\n",
       "      <td>1</td>\n",
       "      <td>0</td>\n",
       "      <td>0</td>\n",
       "      <td>0</td>\n",
       "      <td>0</td>\n",
       "      <td>...</td>\n",
       "      <td>0</td>\n",
       "      <td>0</td>\n",
       "      <td>0</td>\n",
       "      <td>0</td>\n",
       "      <td>0</td>\n",
       "      <td>0</td>\n",
       "      <td>0</td>\n",
       "      <td>0</td>\n",
       "      <td>0</td>\n",
       "      <td>0</td>\n",
       "    </tr>\n",
       "    <tr>\n",
       "      <th>1020</th>\n",
       "      <td>1</td>\n",
       "      <td>15</td>\n",
       "      <td>177</td>\n",
       "      <td>64</td>\n",
       "      <td>1976</td>\n",
       "      <td>1</td>\n",
       "      <td>0</td>\n",
       "      <td>0</td>\n",
       "      <td>0</td>\n",
       "      <td>0</td>\n",
       "      <td>...</td>\n",
       "      <td>0</td>\n",
       "      <td>0</td>\n",
       "      <td>0</td>\n",
       "      <td>0</td>\n",
       "      <td>0</td>\n",
       "      <td>0</td>\n",
       "      <td>0</td>\n",
       "      <td>0</td>\n",
       "      <td>0</td>\n",
       "      <td>0</td>\n",
       "    </tr>\n",
       "    <tr>\n",
       "      <th>1021</th>\n",
       "      <td>1</td>\n",
       "      <td>15</td>\n",
       "      <td>177</td>\n",
       "      <td>64</td>\n",
       "      <td>1976</td>\n",
       "      <td>1</td>\n",
       "      <td>0</td>\n",
       "      <td>0</td>\n",
       "      <td>0</td>\n",
       "      <td>0</td>\n",
       "      <td>...</td>\n",
       "      <td>0</td>\n",
       "      <td>0</td>\n",
       "      <td>0</td>\n",
       "      <td>0</td>\n",
       "      <td>0</td>\n",
       "      <td>0</td>\n",
       "      <td>0</td>\n",
       "      <td>0</td>\n",
       "      <td>0</td>\n",
       "      <td>0</td>\n",
       "    </tr>\n",
       "    <tr>\n",
       "      <th>1022</th>\n",
       "      <td>1</td>\n",
       "      <td>19</td>\n",
       "      <td>177</td>\n",
       "      <td>64</td>\n",
       "      <td>1980</td>\n",
       "      <td>1</td>\n",
       "      <td>0</td>\n",
       "      <td>0</td>\n",
       "      <td>0</td>\n",
       "      <td>0</td>\n",
       "      <td>...</td>\n",
       "      <td>0</td>\n",
       "      <td>0</td>\n",
       "      <td>0</td>\n",
       "      <td>0</td>\n",
       "      <td>0</td>\n",
       "      <td>0</td>\n",
       "      <td>0</td>\n",
       "      <td>0</td>\n",
       "      <td>0</td>\n",
       "      <td>0</td>\n",
       "    </tr>\n",
       "  </tbody>\n",
       "</table>\n",
       "<p>1023 rows × 588 columns</p>\n",
       "</div>"
      ],
      "text/plain": [
       "      Sex  Age  Height  Weight  Year  Season  Medal  T_Afghanistan  T_Algeria  \\\n",
       "0       1   24     180      80  1992       1      0              0          0   \n",
       "1       1   23     170      60  2012       1      0              0          0   \n",
       "2       1   24     177      73  1920       1      0              0          0   \n",
       "3       1   34     179      79  1900       1      1              0          0   \n",
       "4       0   21     185      82  1988       0      0              0          0   \n",
       "...   ...  ...     ...     ...   ...     ...    ...            ...        ...   \n",
       "1018    1   23     200      88  1980       1      0              0          0   \n",
       "1019    1   24     177      71  1996       1      0              0          0   \n",
       "1020    1   15     177      64  1976       1      0              0          0   \n",
       "1021    1   15     177      64  1976       1      0              0          0   \n",
       "1022    1   19     177      64  1980       1      0              0          0   \n",
       "\n",
       "      T_Angola  ...  E_Wrestling Men's Light-Heavyweight, Freestyle  \\\n",
       "0            0  ...                                               0   \n",
       "1            0  ...                                               0   \n",
       "2            0  ...                                               0   \n",
       "3            0  ...                                               0   \n",
       "4            0  ...                                               0   \n",
       "...        ...  ...                                             ...   \n",
       "1018         0  ...                                               0   \n",
       "1019         0  ...                                               0   \n",
       "1020         0  ...                                               0   \n",
       "1021         0  ...                                               0   \n",
       "1022         0  ...                                               0   \n",
       "\n",
       "      E_Wrestling Men's Light-Heavyweight, Greco-Roman  \\\n",
       "0                                                    0   \n",
       "1                                                    0   \n",
       "2                                                    0   \n",
       "3                                                    0   \n",
       "4                                                    0   \n",
       "...                                                ...   \n",
       "1018                                                 0   \n",
       "1019                                                 0   \n",
       "1020                                                 0   \n",
       "1021                                                 0   \n",
       "1022                                                 0   \n",
       "\n",
       "      E_Wrestling Men's Lightweight, Freestyle  \\\n",
       "0                                            0   \n",
       "1                                            0   \n",
       "2                                            0   \n",
       "3                                            0   \n",
       "4                                            0   \n",
       "...                                        ...   \n",
       "1018                                         0   \n",
       "1019                                         0   \n",
       "1020                                         0   \n",
       "1021                                         0   \n",
       "1022                                         0   \n",
       "\n",
       "      E_Wrestling Men's Lightweight, Greco-Roman  \\\n",
       "0                                              0   \n",
       "1                                              0   \n",
       "2                                              0   \n",
       "3                                              0   \n",
       "4                                              0   \n",
       "...                                          ...   \n",
       "1018                                           0   \n",
       "1019                                           0   \n",
       "1020                                           0   \n",
       "1021                                           0   \n",
       "1022                                           0   \n",
       "\n",
       "      E_Wrestling Men's Middleweight A, Greco-Roman  \\\n",
       "0                                                 0   \n",
       "1                                                 0   \n",
       "2                                                 0   \n",
       "3                                                 0   \n",
       "4                                                 0   \n",
       "...                                             ...   \n",
       "1018                                              0   \n",
       "1019                                              0   \n",
       "1020                                              0   \n",
       "1021                                              0   \n",
       "1022                                              0   \n",
       "\n",
       "      E_Wrestling Men's Middleweight, Freestyle  \\\n",
       "0                                             0   \n",
       "1                                             0   \n",
       "2                                             0   \n",
       "3                                             0   \n",
       "4                                             0   \n",
       "...                                         ...   \n",
       "1018                                          0   \n",
       "1019                                          0   \n",
       "1020                                          0   \n",
       "1021                                          0   \n",
       "1022                                          0   \n",
       "\n",
       "      E_Wrestling Men's Middleweight, Greco-Roman  \\\n",
       "0                                               0   \n",
       "1                                               0   \n",
       "2                                               0   \n",
       "3                                               0   \n",
       "4                                               0   \n",
       "...                                           ...   \n",
       "1018                                            0   \n",
       "1019                                            0   \n",
       "1020                                            0   \n",
       "1021                                            0   \n",
       "1022                                            0   \n",
       "\n",
       "      E_Wrestling Men's Super-Heavyweight, Greco-Roman  \\\n",
       "0                                                    0   \n",
       "1                                                    0   \n",
       "2                                                    0   \n",
       "3                                                    0   \n",
       "4                                                    0   \n",
       "...                                                ...   \n",
       "1018                                                 0   \n",
       "1019                                                 0   \n",
       "1020                                                 0   \n",
       "1021                                                 0   \n",
       "1022                                                 0   \n",
       "\n",
       "      E_Wrestling Men's Welterweight, Freestyle  \\\n",
       "0                                             0   \n",
       "1                                             0   \n",
       "2                                             0   \n",
       "3                                             0   \n",
       "4                                             0   \n",
       "...                                         ...   \n",
       "1018                                          0   \n",
       "1019                                          0   \n",
       "1020                                          0   \n",
       "1021                                          0   \n",
       "1022                                          0   \n",
       "\n",
       "      E_Wrestling Men's Welterweight, Greco-Roman  \n",
       "0                                               0  \n",
       "1                                               0  \n",
       "2                                               0  \n",
       "3                                               0  \n",
       "4                                               0  \n",
       "...                                           ...  \n",
       "1018                                            0  \n",
       "1019                                            0  \n",
       "1020                                            0  \n",
       "1021                                            0  \n",
       "1022                                            0  \n",
       "\n",
       "[1023 rows x 588 columns]"
      ]
     },
     "execution_count": 20,
     "metadata": {},
     "output_type": "execute_result"
    }
   ],
   "source": [
    "data"
   ]
  },
  {
   "cell_type": "code",
   "execution_count": null,
   "metadata": {},
   "outputs": [],
   "source": []
  },
  {
   "cell_type": "code",
   "execution_count": null,
   "metadata": {},
   "outputs": [],
   "source": []
  },
  {
   "cell_type": "code",
   "execution_count": 22,
   "metadata": {
    "id": "HgZ62hSlq1Zt"
   },
   "outputs": [],
   "source": [
    "# Spilt data in target column and features columns\n",
    "y = data['Medal']\n",
    "X = data.drop('Medal', axis=1)"
   ]
  },
  {
   "cell_type": "markdown",
   "metadata": {
    "id": "LnbY1oL2RCGA"
   },
   "source": [
    "## Feature Selection"
   ]
  },
  {
   "cell_type": "code",
   "execution_count": 23,
   "metadata": {
    "id": "I_dx_kJx7OPK"
   },
   "outputs": [],
   "source": [
    "#Apply SelectKBest and extract top 10 features\n",
    "best=SelectKBest(score_func=chi2, k=10)"
   ]
  },
  {
   "cell_type": "code",
   "execution_count": 24,
   "metadata": {
    "id": "HvL7iLHA7OoX"
   },
   "outputs": [],
   "source": [
    "fit=best.fit(X,y)\n"
   ]
  },
  {
   "cell_type": "code",
   "execution_count": 25,
   "metadata": {
    "id": "uzZgxTZ17OxY"
   },
   "outputs": [],
   "source": [
    "data_scores=pd.DataFrame(fit.scores_)\n",
    "data_columns=pd.DataFrame(X.columns)"
   ]
  },
  {
   "cell_type": "code",
   "execution_count": 26,
   "metadata": {
    "colab": {
     "base_uri": "https://localhost:8080/"
    },
    "id": "H8NWThk07O1o",
    "outputId": "be3ebc47-cb45-4f02-fccb-9e2604a416cb"
   },
   "outputs": [
    {
     "name": "stdout",
     "output_type": "stream",
     "text": [
      "                                             Feature      Score\n",
      "3                                             Weight  37.606077\n",
      "56                                           T_Italy  36.976169\n",
      "172                                            N_ITA  36.976169\n",
      "476                       E_Rowing Men's Coxed Pairs  33.664149\n",
      "49                                         T_Hungary  32.245193\n",
      "164                                            N_HUN  32.245193\n",
      "319                    E_Alpine Skiing Men's Super G  24.453160\n",
      "449  E_Gymnastics Men's Team All-Around, Free System  24.401786\n",
      "298                                         S_Rowing  22.201309\n",
      "35                                           T_Egypt  21.044390\n",
      "148                                            N_EGY  21.044390\n"
     ]
    }
   ],
   "source": [
    "#Join the two dataframes\n",
    "scores=pd.concat([data_columns,data_scores],axis=1)\n",
    "scores.columns=['Feature','Score']\n",
    "print(scores.nlargest(11,'Score'))\n"
   ]
  },
  {
   "cell_type": "code",
   "execution_count": 27,
   "metadata": {
    "colab": {
     "base_uri": "https://localhost:8080/"
    },
    "id": "MuQsNThW7O7D",
    "outputId": "a85d1c4d-7c8a-4612-fa93-9fc2e552cd57"
   },
   "outputs": [
    {
     "data": {
      "text/plain": [
       "['Sex',\n",
       " 'Age',\n",
       " 'Height',\n",
       " 'Weight',\n",
       " 'Year',\n",
       " 'Season',\n",
       " 'T_Afghanistan',\n",
       " 'T_Algeria',\n",
       " 'T_Angola',\n",
       " 'T_Argentina']"
      ]
     },
     "execution_count": 27,
     "metadata": {},
     "output_type": "execute_result"
    }
   ],
   "source": [
    "#Select 10 features\n",
    "features=scores[\"Feature\"].tolist()[:10]\n",
    "features"
   ]
  },
  {
   "cell_type": "markdown",
   "metadata": {
    "id": "K7sRUD-gRgCc"
   },
   "source": [
    "## Make new dataset with cleaned data"
   ]
  },
  {
   "cell_type": "code",
   "execution_count": 29,
   "metadata": {
    "colab": {
     "base_uri": "https://localhost:8080/",
     "height": 203
    },
    "id": "amgfnPgs7kJv",
    "outputId": "17e0d9c9-7ca3-4eaa-f768-501b69c6e413"
   },
   "outputs": [
    {
     "data": {
      "text/html": [
       "<div>\n",
       "<style scoped>\n",
       "    .dataframe tbody tr th:only-of-type {\n",
       "        vertical-align: middle;\n",
       "    }\n",
       "\n",
       "    .dataframe tbody tr th {\n",
       "        vertical-align: top;\n",
       "    }\n",
       "\n",
       "    .dataframe thead th {\n",
       "        text-align: right;\n",
       "    }\n",
       "</style>\n",
       "<table border=\"1\" class=\"dataframe\">\n",
       "  <thead>\n",
       "    <tr style=\"text-align: right;\">\n",
       "      <th></th>\n",
       "      <th>Age</th>\n",
       "      <th>Sex</th>\n",
       "      <th>Height</th>\n",
       "      <th>Weight</th>\n",
       "      <th>Year</th>\n",
       "      <th>Season</th>\n",
       "      <th>Medal</th>\n",
       "    </tr>\n",
       "  </thead>\n",
       "  <tbody>\n",
       "    <tr>\n",
       "      <th>0</th>\n",
       "      <td>24</td>\n",
       "      <td>1</td>\n",
       "      <td>180</td>\n",
       "      <td>80</td>\n",
       "      <td>1992</td>\n",
       "      <td>1</td>\n",
       "      <td>0</td>\n",
       "    </tr>\n",
       "    <tr>\n",
       "      <th>1</th>\n",
       "      <td>23</td>\n",
       "      <td>1</td>\n",
       "      <td>170</td>\n",
       "      <td>60</td>\n",
       "      <td>2012</td>\n",
       "      <td>1</td>\n",
       "      <td>0</td>\n",
       "    </tr>\n",
       "    <tr>\n",
       "      <th>2</th>\n",
       "      <td>24</td>\n",
       "      <td>1</td>\n",
       "      <td>177</td>\n",
       "      <td>73</td>\n",
       "      <td>1920</td>\n",
       "      <td>1</td>\n",
       "      <td>0</td>\n",
       "    </tr>\n",
       "    <tr>\n",
       "      <th>3</th>\n",
       "      <td>34</td>\n",
       "      <td>1</td>\n",
       "      <td>179</td>\n",
       "      <td>79</td>\n",
       "      <td>1900</td>\n",
       "      <td>1</td>\n",
       "      <td>1</td>\n",
       "    </tr>\n",
       "    <tr>\n",
       "      <th>4</th>\n",
       "      <td>21</td>\n",
       "      <td>0</td>\n",
       "      <td>185</td>\n",
       "      <td>82</td>\n",
       "      <td>1988</td>\n",
       "      <td>0</td>\n",
       "      <td>0</td>\n",
       "    </tr>\n",
       "  </tbody>\n",
       "</table>\n",
       "</div>"
      ],
      "text/plain": [
       "   Age  Sex  Height  Weight  Year  Season  Medal\n",
       "0   24    1     180      80  1992       1      0\n",
       "1   23    1     170      60  2012       1      0\n",
       "2   24    1     177      73  1920       1      0\n",
       "3   34    1     179      79  1900       1      1\n",
       "4   21    0     185      82  1988       0      0"
      ]
     },
     "execution_count": 29,
     "metadata": {},
     "output_type": "execute_result"
    }
   ],
   "source": [
    "data=data[['Age','Sex','Height','Weight','Year','Season','Medal']]\n",
    "data.head()"
   ]
  },
  {
   "cell_type": "code",
   "execution_count": 30,
   "metadata": {
    "id": "XxFf_eJ28Qo4"
   },
   "outputs": [],
   "source": [
    "y = data['Medal']\n",
    "X = data.drop(['Medal'], axis=1)\n",
    "\n",
    "#Split data into training and testing data\n",
    "train_x, test_x, train_y, test_y = train_test_split(X, y, test_size=0.4, random_state=1)\n"
   ]
  },
  {
   "cell_type": "markdown",
   "metadata": {
    "id": "zl3u97MGR4jN"
   },
   "source": [
    "## Feature Scaling"
   ]
  },
  {
   "cell_type": "code",
   "execution_count": 31,
   "metadata": {
    "id": "iMrc5Wcr8gBI"
   },
   "outputs": [],
   "source": [
    "# Scaling data \n",
    "scaler = MinMaxScaler()\n",
    "train_x = scaler.fit_transform(train_x)\n",
    "test_x = scaler.transform(test_x)"
   ]
  },
  {
   "cell_type": "markdown",
   "metadata": {
    "id": "D_1XPe4DR-py"
   },
   "source": [
    "## Predictive Modeling"
   ]
  },
  {
   "cell_type": "code",
   "execution_count": 32,
   "metadata": {
    "colab": {
     "base_uri": "https://localhost:8080/"
    },
    "id": "b8hpiG39zeRN",
    "outputId": "1e74d152-b5f5-46ed-a624-2c813232f0f5"
   },
   "outputs": [
    {
     "name": "stdout",
     "output_type": "stream",
     "text": [
      "confusion matrix\n",
      "[[359   0]\n",
      " [ 51   0]]\n",
      "\n",
      "\n",
      "Accuracy of Logistic Regression: 87.5609756097561 \n",
      "\n",
      "              precision    recall  f1-score   support\n",
      "\n",
      "           0       0.88      1.00      0.93       359\n",
      "           1       0.00      0.00      0.00        51\n",
      "\n",
      "    accuracy                           0.88       410\n",
      "   macro avg       0.44      0.50      0.47       410\n",
      "weighted avg       0.77      0.88      0.82       410\n",
      "\n"
     ]
    },
    {
     "name": "stderr",
     "output_type": "stream",
     "text": [
      "c:\\users\\admin\\appdata\\local\\programs\\python\\python38\\lib\\site-packages\\sklearn\\metrics\\_classification.py:1221: UndefinedMetricWarning: Precision and F-score are ill-defined and being set to 0.0 in labels with no predicted samples. Use `zero_division` parameter to control this behavior.\n",
      "  _warn_prf(average, modifier, msg_start, len(result))\n"
     ]
    }
   ],
   "source": [
    "m1 = 'LogisticRegression'\n",
    "lr = LogisticRegression(random_state=1, max_iter=1000)\n",
    "lr.fit(train_x, train_y)\n",
    "lr_predict = lr.predict(test_x)\n",
    "lr_conf_matrix = confusion_matrix(test_y, lr_predict)\n",
    "lr_acc_score = accuracy_score(test_y, lr_predict)\n",
    "print(\"confusion matrix\")\n",
    "print(lr_conf_matrix)\n",
    "print(\"\\n\")\n",
    "print(\"Accuracy of Logistic Regression:\",lr_acc_score*100,'\\n')\n",
    "print(classification_report(test_y,lr_predict))"
   ]
  },
  {
   "cell_type": "code",
   "execution_count": 33,
   "metadata": {
    "colab": {
     "base_uri": "https://localhost:8080/"
    },
    "id": "wvQPSxoo8493",
    "outputId": "729e74d5-717d-4a0d-e92c-20c8f5f2a11c"
   },
   "outputs": [
    {
     "name": "stdout",
     "output_type": "stream",
     "text": [
      "confusion matrix\n",
      "[[359   0]\n",
      " [ 51   0]]\n",
      "\n",
      "\n",
      "Accuracy of Logistic Regression: 87.5609756097561 \n",
      "\n",
      "              precision    recall  f1-score   support\n",
      "\n",
      "           0       0.88      1.00      0.93       359\n",
      "           1       0.00      0.00      0.00        51\n",
      "\n",
      "    accuracy                           0.88       410\n",
      "   macro avg       0.44      0.50      0.47       410\n",
      "weighted avg       0.77      0.88      0.82       410\n",
      "\n"
     ]
    },
    {
     "name": "stderr",
     "output_type": "stream",
     "text": [
      "c:\\users\\admin\\appdata\\local\\programs\\python\\python38\\lib\\site-packages\\sklearn\\metrics\\_classification.py:1221: UndefinedMetricWarning: Precision and F-score are ill-defined and being set to 0.0 in labels with no predicted samples. Use `zero_division` parameter to control this behavior.\n",
      "  _warn_prf(average, modifier, msg_start, len(result))\n"
     ]
    }
   ],
   "source": [
    "m2 = 'MultinomialNB'\n",
    "nv = MultinomialNB()\n",
    "nv.fit(train_x, train_y)\n",
    "nv_predict = nv.predict(test_x)\n",
    "nv_conf_matrix = confusion_matrix(test_y, nv_predict)\n",
    "nv_acc_score = accuracy_score(test_y, nv_predict)\n",
    "print(\"confusion matrix\")\n",
    "print(nv_conf_matrix)\n",
    "print(\"\\n\")\n",
    "print(\"Accuracy of Logistic Regression:\",nv_acc_score*100,'\\n')\n",
    "print(classification_report(test_y,nv_predict))"
   ]
  },
  {
   "cell_type": "code",
   "execution_count": 34,
   "metadata": {
    "colab": {
     "base_uri": "https://localhost:8080/"
    },
    "id": "TjHe5kdSzHBN",
    "outputId": "f08fb877-7e7b-46d3-d682-481044e14b68"
   },
   "outputs": [
    {
     "name": "stdout",
     "output_type": "stream",
     "text": [
      "confusion matrix\n",
      "[[337  22]\n",
      " [ 32  19]]\n",
      "\n",
      "\n",
      "Accuracy of DecisionTreeClassifier: 86.82926829268293 \n",
      "\n",
      "              precision    recall  f1-score   support\n",
      "\n",
      "           0       0.91      0.94      0.93       359\n",
      "           1       0.46      0.37      0.41        51\n",
      "\n",
      "    accuracy                           0.87       410\n",
      "   macro avg       0.69      0.66      0.67       410\n",
      "weighted avg       0.86      0.87      0.86       410\n",
      "\n"
     ]
    }
   ],
   "source": [
    "m3 = 'DecisionTreeClassifier'\n",
    "dt = DecisionTreeClassifier(criterion = 'entropy',random_state=0,max_depth = 30)\n",
    "dt.fit(train_x,train_y)\n",
    "dt_predicted = dt.predict(test_x)\n",
    "dt_conf_matrix = confusion_matrix(test_y, dt_predicted)\n",
    "dt_acc_score = accuracy_score(test_y, dt_predicted)\n",
    "print(\"confusion matrix\")\n",
    "print(dt_conf_matrix)\n",
    "print(\"\\n\")\n",
    "print(\"Accuracy of DecisionTreeClassifier:\",dt_acc_score*100,'\\n')\n",
    "print(classification_report(test_y,dt_predicted))"
   ]
  },
  {
   "cell_type": "code",
   "execution_count": 35,
   "metadata": {
    "colab": {
     "base_uri": "https://localhost:8080/"
    },
    "id": "Qs0IlU1f-WiG",
    "outputId": "992e2810-45e4-411e-c94c-40472c5c31bc"
   },
   "outputs": [
    {
     "name": "stdout",
     "output_type": "stream",
     "text": [
      "confusion matrix\n",
      "[[351   8]\n",
      " [ 39  12]]\n",
      "\n",
      "\n",
      "Accuracy of Random Forest: 88.53658536585365 \n",
      "\n",
      "              precision    recall  f1-score   support\n",
      "\n",
      "           0       0.90      0.98      0.94       359\n",
      "           1       0.60      0.24      0.34        51\n",
      "\n",
      "    accuracy                           0.89       410\n",
      "   macro avg       0.75      0.61      0.64       410\n",
      "weighted avg       0.86      0.89      0.86       410\n",
      "\n"
     ]
    }
   ],
   "source": [
    "m4 = 'Random Forest Classfier'\n",
    "rf = RandomForestClassifier(n_estimators=200, random_state=0,max_depth=12)\n",
    "rf.fit(train_x,train_y)\n",
    "rf_predicted = rf.predict(test_x)\n",
    "rf_conf_matrix = confusion_matrix(test_y, rf_predicted)\n",
    "rf_acc_score = accuracy_score(test_y, rf_predicted)\n",
    "print(\"confusion matrix\")\n",
    "print(rf_conf_matrix)\n",
    "print(\"\\n\")\n",
    "print(\"Accuracy of Random Forest:\",rf_acc_score*100,'\\n')\n",
    "print(classification_report(test_y,rf_predicted))"
   ]
  },
  {
   "cell_type": "code",
   "execution_count": 36,
   "metadata": {
    "colab": {
     "base_uri": "https://localhost:8080/"
    },
    "id": "VZ8nXmZ7-MXs",
    "outputId": "1d7f5f23-406e-4b8c-f790-c21577b41519"
   },
   "outputs": [
    {
     "name": "stdout",
     "output_type": "stream",
     "text": [
      "confusion matrix\n",
      "[[350   9]\n",
      " [ 38  13]]\n",
      "\n",
      "\n",
      "Accuracy of Gradient Boosting Classifier: 88.53658536585365 \n",
      "\n",
      "              precision    recall  f1-score   support\n",
      "\n",
      "           0       0.90      0.97      0.94       359\n",
      "           1       0.59      0.25      0.36        51\n",
      "\n",
      "    accuracy                           0.89       410\n",
      "   macro avg       0.75      0.61      0.65       410\n",
      "weighted avg       0.86      0.89      0.86       410\n",
      "\n"
     ]
    }
   ],
   "source": [
    "m5 = 'Gradient Boosting Classifier'\n",
    "gvc =  GradientBoostingClassifier()\n",
    "gvc.fit(train_x,train_y)\n",
    "gvc_predicted = gvc.predict(test_x)\n",
    "gvc_conf_matrix = confusion_matrix(test_y, gvc_predicted)\n",
    "gvc_acc_score = accuracy_score(test_y, gvc_predicted)\n",
    "print(\"confusion matrix\")\n",
    "print(gvc_conf_matrix)\n",
    "print(\"\\n\")\n",
    "print(\"Accuracy of Gradient Boosting Classifier:\",gvc_acc_score*100,'\\n')\n",
    "print(classification_report(test_y,gvc_predicted))"
   ]
  },
  {
   "cell_type": "code",
   "execution_count": 37,
   "metadata": {
    "colab": {
     "base_uri": "https://localhost:8080/"
    },
    "id": "Z7iXxndH_7sj",
    "outputId": "6e6898b0-a1c5-497b-83f6-541bdbc02b1f"
   },
   "outputs": [
    {
     "name": "stdout",
     "output_type": "stream",
     "text": [
      "Epoch 1/100\n",
      "16/16 [==============================] - 0s 26ms/step - loss: 0.5502 - accuracy: 0.8408 - auc: 0.5212 - val_loss: 0.3923 - val_accuracy: 0.9187 - val_auc: 0.5655\n",
      "Epoch 2/100\n",
      "16/16 [==============================] - 0s 2ms/step - loss: 0.3706 - accuracy: 0.8959 - auc: 0.4590 - val_loss: 0.2925 - val_accuracy: 0.9187 - val_auc: 0.5761\n",
      "Epoch 3/100\n",
      "16/16 [==============================] - 0s 3ms/step - loss: 0.3433 - accuracy: 0.8959 - auc: 0.4637 - val_loss: 0.2865 - val_accuracy: 0.9187 - val_auc: 0.5761\n",
      "Epoch 4/100\n",
      "16/16 [==============================] - 0s 3ms/step - loss: 0.3433 - accuracy: 0.8959 - auc: 0.4571 - val_loss: 0.2867 - val_accuracy: 0.9187 - val_auc: 0.5819\n",
      "Epoch 5/100\n",
      "16/16 [==============================] - 0s 2ms/step - loss: 0.3401 - accuracy: 0.8959 - auc: 0.4561 - val_loss: 0.2857 - val_accuracy: 0.9187 - val_auc: 0.5827\n",
      "Epoch 6/100\n",
      "16/16 [==============================] - 0s 2ms/step - loss: 0.3386 - accuracy: 0.8959 - auc: 0.4664 - val_loss: 0.2855 - val_accuracy: 0.9187 - val_auc: 0.6084\n",
      "Epoch 7/100\n",
      "16/16 [==============================] - 0s 2ms/step - loss: 0.3373 - accuracy: 0.8959 - auc: 0.4711 - val_loss: 0.2836 - val_accuracy: 0.9187 - val_auc: 0.6088\n",
      "Epoch 8/100\n",
      "16/16 [==============================] - 0s 3ms/step - loss: 0.3356 - accuracy: 0.8959 - auc: 0.4825 - val_loss: 0.2799 - val_accuracy: 0.9187 - val_auc: 0.6274\n",
      "Epoch 9/100\n",
      "16/16 [==============================] - 0s 2ms/step - loss: 0.3354 - accuracy: 0.8959 - auc: 0.4865 - val_loss: 0.2778 - val_accuracy: 0.9187 - val_auc: 0.6235\n",
      "Epoch 10/100\n",
      "16/16 [==============================] - 0s 2ms/step - loss: 0.3357 - accuracy: 0.8959 - auc: 0.4897 - val_loss: 0.2808 - val_accuracy: 0.9187 - val_auc: 0.6730\n",
      "Epoch 11/100\n",
      "16/16 [==============================] - 0s 2ms/step - loss: 0.3330 - accuracy: 0.8959 - auc: 0.5122 - val_loss: 0.2778 - val_accuracy: 0.9187 - val_auc: 0.6735\n",
      "Epoch 12/100\n",
      "16/16 [==============================] - 0s 3ms/step - loss: 0.3316 - accuracy: 0.8959 - auc: 0.5402 - val_loss: 0.2740 - val_accuracy: 0.9187 - val_auc: 0.6774\n",
      "Epoch 13/100\n",
      "16/16 [==============================] - 0s 2ms/step - loss: 0.3308 - accuracy: 0.8959 - auc: 0.5320 - val_loss: 0.2761 - val_accuracy: 0.9187 - val_auc: 0.6814\n",
      "Epoch 14/100\n",
      "16/16 [==============================] - 0s 2ms/step - loss: 0.3317 - accuracy: 0.8959 - auc: 0.5254 - val_loss: 0.2755 - val_accuracy: 0.9187 - val_auc: 0.6965\n",
      "Epoch 15/100\n",
      "16/16 [==============================] - 0s 3ms/step - loss: 0.3291 - accuracy: 0.8959 - auc: 0.5743 - val_loss: 0.2748 - val_accuracy: 0.9187 - val_auc: 0.7031\n"
     ]
    }
   ],
   "source": [
    "m6 = 'Neural Network'\n",
    "inputs = tf.keras.Input(shape=(X.shape[1]))\n",
    "x = tf.keras.layers.Dense(64, activation='relu')(inputs)\n",
    "x = tf.keras.layers.Dense(64, activation='relu')(x)\n",
    "outputs = tf.keras.layers.Dense(1, activation='sigmoid')(x)\n",
    "\n",
    "model = tf.keras.Model(inputs, outputs)\n",
    "\n",
    "\n",
    "model.compile(\n",
    "    optimizer='adam',\n",
    "    loss='binary_crossentropy',\n",
    "    metrics=[\n",
    "        'accuracy',\n",
    "        tf.keras.metrics.AUC(name='auc')\n",
    "    ]\n",
    ")\n",
    "\n",
    "\n",
    "history = model.fit(\n",
    "    train_x,\n",
    "    train_y,\n",
    "    validation_split=0.2,\n",
    "    batch_size=32,\n",
    "    epochs=100,\n",
    "    callbacks=[\n",
    "        tf.keras.callbacks.EarlyStopping(\n",
    "            monitor='val_loss',\n",
    "            patience=3,\n",
    "            restore_best_weights=True\n",
    "        )\n",
    "    ]\n",
    ")"
   ]
  },
  {
   "cell_type": "code",
   "execution_count": 38,
   "metadata": {
    "colab": {
     "base_uri": "https://localhost:8080/"
    },
    "id": "95v3vzdcG-sP",
    "outputId": "5a41d6f1-c86f-4f1f-f9c1-7e5cb867775e"
   },
   "outputs": [
    {
     "name": "stdout",
     "output_type": "stream",
     "text": [
      "13/13 [==============================] - 0s 1ms/step - loss: 0.3778 - accuracy: 0.8756 - auc: 0.5295\n"
     ]
    },
    {
     "data": {
      "text/plain": [
       "[0.3777812719345093, 0.8756097555160522, 0.5294936895370483]"
      ]
     },
     "execution_count": 38,
     "metadata": {},
     "output_type": "execute_result"
    }
   ],
   "source": [
    "model.evaluate(test_x, test_y)"
   ]
  },
  {
   "cell_type": "code",
   "execution_count": 39,
   "metadata": {
    "id": "VfNCQ5piHFIr"
   },
   "outputs": [],
   "source": [
    "y_true = np.array(test_y)\n",
    "y_pred = np.squeeze(np.array(model.predict(test_x) >= 0.5, dtype=np.int))"
   ]
  },
  {
   "cell_type": "code",
   "execution_count": 40,
   "metadata": {
    "colab": {
     "base_uri": "https://localhost:8080/"
    },
    "id": "IM43qwX3AZ82",
    "outputId": "88cf4f7f-3837-4e1b-bb77-a3dcecbda370"
   },
   "outputs": [
    {
     "name": "stdout",
     "output_type": "stream",
     "text": [
      "confusion matrix\n",
      "[[350   9]\n",
      " [ 38  13]]\n",
      "\n",
      "\n",
      "Accuracy of Neural Network: 87.5609756097561 \n",
      "\n",
      "              precision    recall  f1-score   support\n",
      "\n",
      "           0       0.88      1.00      0.93       359\n",
      "           1       0.00      0.00      0.00        51\n",
      "\n",
      "    accuracy                           0.88       410\n",
      "   macro avg       0.44      0.50      0.47       410\n",
      "weighted avg       0.77      0.88      0.82       410\n",
      "\n"
     ]
    },
    {
     "name": "stderr",
     "output_type": "stream",
     "text": [
      "c:\\users\\admin\\appdata\\local\\programs\\python\\python38\\lib\\site-packages\\sklearn\\metrics\\_classification.py:1221: UndefinedMetricWarning: Precision and F-score are ill-defined and being set to 0.0 in labels with no predicted samples. Use `zero_division` parameter to control this behavior.\n",
      "  _warn_prf(average, modifier, msg_start, len(result))\n"
     ]
    }
   ],
   "source": [
    "nn_conf_matrix = confusion_matrix(y_true, y_pred)\n",
    "nn_acc_score = accuracy_score(y_true, y_pred)\n",
    "print(\"confusion matrix\")\n",
    "print(gvc_conf_matrix)\n",
    "print(\"\\n\")\n",
    "print(\"Accuracy of Neural Network:\",nn_acc_score*100,'\\n')\n",
    "print(classification_report(y_true, y_pred))"
   ]
  },
  {
   "cell_type": "markdown",
   "metadata": {
    "id": "Wh4CcToOSMk5"
   },
   "source": [
    "## Model Evaluation"
   ]
  },
  {
   "cell_type": "code",
   "execution_count": 41,
   "metadata": {
    "colab": {
     "base_uri": "https://localhost:8080/",
     "height": 234
    },
    "id": "0E6sUgZ_HVUt",
    "outputId": "2512820b-9fae-48e6-f082-a5f38faa28b8"
   },
   "outputs": [
    {
     "data": {
      "text/html": [
       "<div>\n",
       "<style scoped>\n",
       "    .dataframe tbody tr th:only-of-type {\n",
       "        vertical-align: middle;\n",
       "    }\n",
       "\n",
       "    .dataframe tbody tr th {\n",
       "        vertical-align: top;\n",
       "    }\n",
       "\n",
       "    .dataframe thead th {\n",
       "        text-align: right;\n",
       "    }\n",
       "</style>\n",
       "<table border=\"1\" class=\"dataframe\">\n",
       "  <thead>\n",
       "    <tr style=\"text-align: right;\">\n",
       "      <th></th>\n",
       "      <th>Model</th>\n",
       "      <th>Accuracy</th>\n",
       "    </tr>\n",
       "  </thead>\n",
       "  <tbody>\n",
       "    <tr>\n",
       "      <th>0</th>\n",
       "      <td>Logistic Regression</td>\n",
       "      <td>87.560976</td>\n",
       "    </tr>\n",
       "    <tr>\n",
       "      <th>1</th>\n",
       "      <td>MultinomialNB</td>\n",
       "      <td>87.560976</td>\n",
       "    </tr>\n",
       "    <tr>\n",
       "      <th>2</th>\n",
       "      <td>Decision Tree</td>\n",
       "      <td>86.829268</td>\n",
       "    </tr>\n",
       "    <tr>\n",
       "      <th>3</th>\n",
       "      <td>Random Forest</td>\n",
       "      <td>88.536585</td>\n",
       "    </tr>\n",
       "    <tr>\n",
       "      <th>4</th>\n",
       "      <td>Gradient Boosting</td>\n",
       "      <td>88.536585</td>\n",
       "    </tr>\n",
       "    <tr>\n",
       "      <th>5</th>\n",
       "      <td>Neural Network</td>\n",
       "      <td>87.560976</td>\n",
       "    </tr>\n",
       "  </tbody>\n",
       "</table>\n",
       "</div>"
      ],
      "text/plain": [
       "                 Model   Accuracy\n",
       "0  Logistic Regression  87.560976\n",
       "1        MultinomialNB  87.560976\n",
       "2        Decision Tree  86.829268\n",
       "3        Random Forest  88.536585\n",
       "4    Gradient Boosting  88.536585\n",
       "5       Neural Network  87.560976"
      ]
     },
     "execution_count": 41,
     "metadata": {},
     "output_type": "execute_result"
    }
   ],
   "source": [
    "model_ev = pd.DataFrame({'Model': ['Logistic Regression','MultinomialNB','Decision Tree','Random Forest',\n",
    "                                  'Gradient Boosting','Neural Network'], \n",
    "                         'Accuracy': [lr_acc_score*100, nv_acc_score*100, dt_acc_score*100, rf_acc_score*100,gvc_acc_score*100,\n",
    "                                      nn_acc_score*100]})\n",
    "model_ev"
   ]
  },
  {
   "cell_type": "markdown",
   "metadata": {
    "id": "ZZtJLVdxSZ2L"
   },
   "source": [
    "## Final Random Forest Classifier Model\n"
   ]
  },
  {
   "cell_type": "code",
   "execution_count": 42,
   "metadata": {
    "colab": {
     "base_uri": "https://localhost:8080/"
    },
    "id": "RUmwAP-lH7IF",
    "outputId": "a4d5c4fc-f54b-4c17-c9c7-060e99757326"
   },
   "outputs": [
    {
     "name": "stdout",
     "output_type": "stream",
     "text": [
      "Accuracy of Random Forest: 88.53658536585365 \n",
      "\n"
     ]
    }
   ],
   "source": [
    "model = RandomForestClassifier(n_estimators=200, random_state=0,max_depth=12)\n",
    "model.fit(train_x,train_y)\n",
    "predicted = model.predict(test_x)\n",
    "accuracy = accuracy_score(test_y, rf_predicted)\n",
    "print(\"Accuracy of Random Forest:\",accuracy*100,'\\n')\n"
   ]
  },
  {
   "cell_type": "markdown",
   "metadata": {},
   "source": [
    "# Conclusion\n",
    "Random Forest Classifier Model performs best among all models"
   ]
  },
  {
   "cell_type": "code",
   "execution_count": 44,
   "metadata": {},
   "outputs": [],
   "source": [
    "df = pd.read_csv(r'C:\\Users\\Admin\\Desktop\\olympics_2016.csv')"
   ]
  },
  {
   "cell_type": "code",
   "execution_count": 45,
   "metadata": {
    "scrolled": true
   },
   "outputs": [
    {
     "data": {
      "text/html": [
       "<div>\n",
       "<style scoped>\n",
       "    .dataframe tbody tr th:only-of-type {\n",
       "        vertical-align: middle;\n",
       "    }\n",
       "\n",
       "    .dataframe tbody tr th {\n",
       "        vertical-align: top;\n",
       "    }\n",
       "\n",
       "    .dataframe thead th {\n",
       "        text-align: right;\n",
       "    }\n",
       "</style>\n",
       "<table border=\"1\" class=\"dataframe\">\n",
       "  <thead>\n",
       "    <tr style=\"text-align: right;\">\n",
       "      <th></th>\n",
       "      <th>Name</th>\n",
       "      <th>Sex</th>\n",
       "      <th>Age</th>\n",
       "      <th>Height</th>\n",
       "      <th>Weight</th>\n",
       "      <th>Team</th>\n",
       "      <th>NOC</th>\n",
       "      <th>Games</th>\n",
       "      <th>Year</th>\n",
       "      <th>Season</th>\n",
       "      <th>City</th>\n",
       "      <th>Sport</th>\n",
       "      <th>Event</th>\n",
       "      <th>Medal</th>\n",
       "      <th>Height (m)</th>\n",
       "      <th>BMI</th>\n",
       "    </tr>\n",
       "  </thead>\n",
       "  <tbody>\n",
       "    <tr>\n",
       "      <th>0</th>\n",
       "      <td>Luc Abalo</td>\n",
       "      <td>M</td>\n",
       "      <td>31.0</td>\n",
       "      <td>182.0</td>\n",
       "      <td>86.0</td>\n",
       "      <td>France</td>\n",
       "      <td>FRA</td>\n",
       "      <td>2016 Summer</td>\n",
       "      <td>2016</td>\n",
       "      <td>Summer</td>\n",
       "      <td>Rio de Janeiro</td>\n",
       "      <td>Handball</td>\n",
       "      <td>Handball Men's Handball</td>\n",
       "      <td>Medal</td>\n",
       "      <td>1.82</td>\n",
       "      <td>25.96</td>\n",
       "    </tr>\n",
       "    <tr>\n",
       "      <th>1</th>\n",
       "      <td>Mara Katherine Abbott</td>\n",
       "      <td>F</td>\n",
       "      <td>30.0</td>\n",
       "      <td>163.0</td>\n",
       "      <td>52.0</td>\n",
       "      <td>United States</td>\n",
       "      <td>USA</td>\n",
       "      <td>2016 Summer</td>\n",
       "      <td>2016</td>\n",
       "      <td>Summer</td>\n",
       "      <td>Rio de Janeiro</td>\n",
       "      <td>Cycling</td>\n",
       "      <td>Cycling Women's Road Race, Individual</td>\n",
       "      <td>Non-Medal</td>\n",
       "      <td>1.63</td>\n",
       "      <td>19.57</td>\n",
       "    </tr>\n",
       "    <tr>\n",
       "      <th>2</th>\n",
       "      <td>Arthur Abele</td>\n",
       "      <td>M</td>\n",
       "      <td>30.0</td>\n",
       "      <td>184.0</td>\n",
       "      <td>85.0</td>\n",
       "      <td>Germany</td>\n",
       "      <td>GER</td>\n",
       "      <td>2016 Summer</td>\n",
       "      <td>2016</td>\n",
       "      <td>Summer</td>\n",
       "      <td>Rio de Janeiro</td>\n",
       "      <td>Athletics</td>\n",
       "      <td>Athletics Men's Decathlon</td>\n",
       "      <td>Non-Medal</td>\n",
       "      <td>1.84</td>\n",
       "      <td>25.11</td>\n",
       "    </tr>\n",
       "    <tr>\n",
       "      <th>3</th>\n",
       "      <td>Camille Anne Franoise Abily</td>\n",
       "      <td>F</td>\n",
       "      <td>31.0</td>\n",
       "      <td>168.0</td>\n",
       "      <td>60.0</td>\n",
       "      <td>France</td>\n",
       "      <td>FRA</td>\n",
       "      <td>2016 Summer</td>\n",
       "      <td>2016</td>\n",
       "      <td>Summer</td>\n",
       "      <td>Rio de Janeiro</td>\n",
       "      <td>Football</td>\n",
       "      <td>Football Women's Football</td>\n",
       "      <td>Non-Medal</td>\n",
       "      <td>1.68</td>\n",
       "      <td>21.26</td>\n",
       "    </tr>\n",
       "    <tr>\n",
       "      <th>4</th>\n",
       "      <td>Diana Monteiro Abla</td>\n",
       "      <td>F</td>\n",
       "      <td>21.0</td>\n",
       "      <td>175.0</td>\n",
       "      <td>75.0</td>\n",
       "      <td>Brazil</td>\n",
       "      <td>BRA</td>\n",
       "      <td>2016 Summer</td>\n",
       "      <td>2016</td>\n",
       "      <td>Summer</td>\n",
       "      <td>Rio de Janeiro</td>\n",
       "      <td>Water Polo</td>\n",
       "      <td>Water Polo Women's Water Polo</td>\n",
       "      <td>Non-Medal</td>\n",
       "      <td>1.75</td>\n",
       "      <td>24.49</td>\n",
       "    </tr>\n",
       "  </tbody>\n",
       "</table>\n",
       "</div>"
      ],
      "text/plain": [
       "                          Name Sex   Age  Height  Weight           Team  NOC  \\\n",
       "0                    Luc Abalo   M  31.0   182.0    86.0         France  FRA   \n",
       "1        Mara Katherine Abbott   F  30.0   163.0    52.0  United States  USA   \n",
       "2                 Arthur Abele   M  30.0   184.0    85.0        Germany  GER   \n",
       "3  Camille Anne Franoise Abily   F  31.0   168.0    60.0         France  FRA   \n",
       "4          Diana Monteiro Abla   F  21.0   175.0    75.0         Brazil  BRA   \n",
       "\n",
       "         Games  Year  Season            City       Sport  \\\n",
       "0  2016 Summer  2016  Summer  Rio de Janeiro    Handball   \n",
       "1  2016 Summer  2016  Summer  Rio de Janeiro     Cycling   \n",
       "2  2016 Summer  2016  Summer  Rio de Janeiro   Athletics   \n",
       "3  2016 Summer  2016  Summer  Rio de Janeiro    Football   \n",
       "4  2016 Summer  2016  Summer  Rio de Janeiro  Water Polo   \n",
       "\n",
       "                                   Event      Medal  Height (m)    BMI  \n",
       "0                Handball Men's Handball      Medal        1.82  25.96  \n",
       "1  Cycling Women's Road Race, Individual  Non-Medal        1.63  19.57  \n",
       "2              Athletics Men's Decathlon  Non-Medal        1.84  25.11  \n",
       "3              Football Women's Football  Non-Medal        1.68  21.26  \n",
       "4          Water Polo Women's Water Polo  Non-Medal        1.75  24.49  "
      ]
     },
     "execution_count": 45,
     "metadata": {},
     "output_type": "execute_result"
    }
   ],
   "source": [
    "df.head()"
   ]
  },
  {
   "cell_type": "markdown",
   "metadata": {},
   "source": [
    "# Showing which countries have the highest count"
   ]
  },
  {
   "cell_type": "code",
   "execution_count": 46,
   "metadata": {
    "scrolled": false
   },
   "outputs": [
    {
     "data": {
      "text/html": [
       "<div>\n",
       "<style scoped>\n",
       "    .dataframe tbody tr th:only-of-type {\n",
       "        vertical-align: middle;\n",
       "    }\n",
       "\n",
       "    .dataframe tbody tr th {\n",
       "        vertical-align: top;\n",
       "    }\n",
       "\n",
       "    .dataframe thead th {\n",
       "        text-align: right;\n",
       "    }\n",
       "</style>\n",
       "<table border=\"1\" class=\"dataframe\">\n",
       "  <thead>\n",
       "    <tr style=\"text-align: right;\">\n",
       "      <th></th>\n",
       "      <th>Name</th>\n",
       "      <th>Sex</th>\n",
       "      <th>Age</th>\n",
       "      <th>Height</th>\n",
       "      <th>Weight</th>\n",
       "      <th>Team</th>\n",
       "      <th>Games</th>\n",
       "      <th>Year</th>\n",
       "      <th>Season</th>\n",
       "      <th>City</th>\n",
       "      <th>Sport</th>\n",
       "      <th>Event</th>\n",
       "      <th>Medal</th>\n",
       "      <th>Height (m)</th>\n",
       "      <th>BMI</th>\n",
       "    </tr>\n",
       "    <tr>\n",
       "      <th>NOC</th>\n",
       "      <th></th>\n",
       "      <th></th>\n",
       "      <th></th>\n",
       "      <th></th>\n",
       "      <th></th>\n",
       "      <th></th>\n",
       "      <th></th>\n",
       "      <th></th>\n",
       "      <th></th>\n",
       "      <th></th>\n",
       "      <th></th>\n",
       "      <th></th>\n",
       "      <th></th>\n",
       "      <th></th>\n",
       "      <th></th>\n",
       "    </tr>\n",
       "  </thead>\n",
       "  <tbody>\n",
       "    <tr>\n",
       "      <th>USA</th>\n",
       "      <td>718</td>\n",
       "      <td>718</td>\n",
       "      <td>718</td>\n",
       "      <td>718</td>\n",
       "      <td>718</td>\n",
       "      <td>718</td>\n",
       "      <td>718</td>\n",
       "      <td>718</td>\n",
       "      <td>718</td>\n",
       "      <td>718</td>\n",
       "      <td>718</td>\n",
       "      <td>718</td>\n",
       "      <td>718</td>\n",
       "      <td>718</td>\n",
       "      <td>718</td>\n",
       "    </tr>\n",
       "    <tr>\n",
       "      <th>BRA</th>\n",
       "      <td>581</td>\n",
       "      <td>581</td>\n",
       "      <td>581</td>\n",
       "      <td>581</td>\n",
       "      <td>581</td>\n",
       "      <td>581</td>\n",
       "      <td>581</td>\n",
       "      <td>581</td>\n",
       "      <td>581</td>\n",
       "      <td>581</td>\n",
       "      <td>581</td>\n",
       "      <td>581</td>\n",
       "      <td>581</td>\n",
       "      <td>581</td>\n",
       "      <td>581</td>\n",
       "    </tr>\n",
       "    <tr>\n",
       "      <th>GER</th>\n",
       "      <td>535</td>\n",
       "      <td>535</td>\n",
       "      <td>535</td>\n",
       "      <td>535</td>\n",
       "      <td>535</td>\n",
       "      <td>535</td>\n",
       "      <td>535</td>\n",
       "      <td>535</td>\n",
       "      <td>535</td>\n",
       "      <td>535</td>\n",
       "      <td>535</td>\n",
       "      <td>535</td>\n",
       "      <td>535</td>\n",
       "      <td>535</td>\n",
       "      <td>535</td>\n",
       "    </tr>\n",
       "    <tr>\n",
       "      <th>AUS</th>\n",
       "      <td>512</td>\n",
       "      <td>512</td>\n",
       "      <td>512</td>\n",
       "      <td>512</td>\n",
       "      <td>512</td>\n",
       "      <td>512</td>\n",
       "      <td>512</td>\n",
       "      <td>512</td>\n",
       "      <td>512</td>\n",
       "      <td>512</td>\n",
       "      <td>512</td>\n",
       "      <td>512</td>\n",
       "      <td>512</td>\n",
       "      <td>512</td>\n",
       "      <td>512</td>\n",
       "    </tr>\n",
       "    <tr>\n",
       "      <th>FRA</th>\n",
       "      <td>511</td>\n",
       "      <td>511</td>\n",
       "      <td>511</td>\n",
       "      <td>511</td>\n",
       "      <td>511</td>\n",
       "      <td>511</td>\n",
       "      <td>511</td>\n",
       "      <td>511</td>\n",
       "      <td>511</td>\n",
       "      <td>511</td>\n",
       "      <td>511</td>\n",
       "      <td>511</td>\n",
       "      <td>511</td>\n",
       "      <td>511</td>\n",
       "      <td>511</td>\n",
       "    </tr>\n",
       "  </tbody>\n",
       "</table>\n",
       "</div>"
      ],
      "text/plain": [
       "     Name  Sex  Age  Height  Weight  Team  Games  Year  Season  City  Sport  \\\n",
       "NOC                                                                           \n",
       "USA   718  718  718     718     718   718    718   718     718   718    718   \n",
       "BRA   581  581  581     581     581   581    581   581     581   581    581   \n",
       "GER   535  535  535     535     535   535    535   535     535   535    535   \n",
       "AUS   512  512  512     512     512   512    512   512     512   512    512   \n",
       "FRA   511  511  511     511     511   511    511   511     511   511    511   \n",
       "\n",
       "     Event  Medal  Height (m)  BMI  \n",
       "NOC                                 \n",
       "USA    718    718         718  718  \n",
       "BRA    581    581         581  581  \n",
       "GER    535    535         535  535  \n",
       "AUS    512    512         512  512  \n",
       "FRA    511    511         511  511  "
      ]
     },
     "execution_count": 46,
     "metadata": {},
     "output_type": "execute_result"
    }
   ],
   "source": [
    "df.groupby(['NOC']).count().sort_values('BMI',ascending = False)"
   ]
  },
  {
   "cell_type": "code",
   "execution_count": 47,
   "metadata": {},
   "outputs": [
    {
     "data": {
      "text/html": [
       "<div>\n",
       "<style scoped>\n",
       "    .dataframe tbody tr th:only-of-type {\n",
       "        vertical-align: middle;\n",
       "    }\n",
       "\n",
       "    .dataframe tbody tr th {\n",
       "        vertical-align: top;\n",
       "    }\n",
       "\n",
       "    .dataframe thead th {\n",
       "        text-align: right;\n",
       "    }\n",
       "</style>\n",
       "<table border=\"1\" class=\"dataframe\">\n",
       "  <thead>\n",
       "    <tr style=\"text-align: right;\">\n",
       "      <th></th>\n",
       "      <th>Age</th>\n",
       "      <th>Height</th>\n",
       "      <th>Weight</th>\n",
       "      <th>Year</th>\n",
       "      <th>Height (m)</th>\n",
       "      <th>BMI</th>\n",
       "    </tr>\n",
       "  </thead>\n",
       "  <tbody>\n",
       "    <tr>\n",
       "      <th>count</th>\n",
       "      <td>2857.000000</td>\n",
       "      <td>2857.000000</td>\n",
       "      <td>2857.000000</td>\n",
       "      <td>2857.0</td>\n",
       "      <td>2857.000000</td>\n",
       "      <td>2857.000000</td>\n",
       "    </tr>\n",
       "    <tr>\n",
       "      <th>mean</th>\n",
       "      <td>26.747987</td>\n",
       "      <td>177.605880</td>\n",
       "      <td>72.753588</td>\n",
       "      <td>2016.0</td>\n",
       "      <td>1.776059</td>\n",
       "      <td>22.833850</td>\n",
       "    </tr>\n",
       "    <tr>\n",
       "      <th>std</th>\n",
       "      <td>5.847399</td>\n",
       "      <td>11.560131</td>\n",
       "      <td>15.766309</td>\n",
       "      <td>0.0</td>\n",
       "      <td>0.115601</td>\n",
       "      <td>3.025519</td>\n",
       "    </tr>\n",
       "    <tr>\n",
       "      <th>min</th>\n",
       "      <td>15.000000</td>\n",
       "      <td>133.000000</td>\n",
       "      <td>30.000000</td>\n",
       "      <td>2016.0</td>\n",
       "      <td>1.330000</td>\n",
       "      <td>10.500000</td>\n",
       "    </tr>\n",
       "    <tr>\n",
       "      <th>25%</th>\n",
       "      <td>23.000000</td>\n",
       "      <td>170.000000</td>\n",
       "      <td>61.000000</td>\n",
       "      <td>2016.0</td>\n",
       "      <td>1.700000</td>\n",
       "      <td>20.900000</td>\n",
       "    </tr>\n",
       "    <tr>\n",
       "      <th>50%</th>\n",
       "      <td>26.000000</td>\n",
       "      <td>177.000000</td>\n",
       "      <td>70.000000</td>\n",
       "      <td>2016.0</td>\n",
       "      <td>1.770000</td>\n",
       "      <td>22.520000</td>\n",
       "    </tr>\n",
       "    <tr>\n",
       "      <th>75%</th>\n",
       "      <td>30.000000</td>\n",
       "      <td>185.000000</td>\n",
       "      <td>82.000000</td>\n",
       "      <td>2016.0</td>\n",
       "      <td>1.850000</td>\n",
       "      <td>24.420000</td>\n",
       "    </tr>\n",
       "    <tr>\n",
       "      <th>max</th>\n",
       "      <td>61.000000</td>\n",
       "      <td>215.000000</td>\n",
       "      <td>160.000000</td>\n",
       "      <td>2016.0</td>\n",
       "      <td>2.150000</td>\n",
       "      <td>44.790000</td>\n",
       "    </tr>\n",
       "  </tbody>\n",
       "</table>\n",
       "</div>"
      ],
      "text/plain": [
       "               Age       Height       Weight    Year   Height (m)          BMI\n",
       "count  2857.000000  2857.000000  2857.000000  2857.0  2857.000000  2857.000000\n",
       "mean     26.747987   177.605880    72.753588  2016.0     1.776059    22.833850\n",
       "std       5.847399    11.560131    15.766309     0.0     0.115601     3.025519\n",
       "min      15.000000   133.000000    30.000000  2016.0     1.330000    10.500000\n",
       "25%      23.000000   170.000000    61.000000  2016.0     1.700000    20.900000\n",
       "50%      26.000000   177.000000    70.000000  2016.0     1.770000    22.520000\n",
       "75%      30.000000   185.000000    82.000000  2016.0     1.850000    24.420000\n",
       "max      61.000000   215.000000   160.000000  2016.0     2.150000    44.790000"
      ]
     },
     "execution_count": 47,
     "metadata": {},
     "output_type": "execute_result"
    }
   ],
   "source": [
    "df.describe()"
   ]
  },
  {
   "cell_type": "code",
   "execution_count": 48,
   "metadata": {},
   "outputs": [
    {
     "data": {
      "text/plain": [
       "(2857, 16)"
      ]
     },
     "execution_count": 48,
     "metadata": {},
     "output_type": "execute_result"
    }
   ],
   "source": [
    "df.shape"
   ]
  },
  {
   "cell_type": "code",
   "execution_count": 49,
   "metadata": {},
   "outputs": [
    {
     "data": {
      "text/plain": [
       "Name          0\n",
       "Sex           0\n",
       "Age           0\n",
       "Height        0\n",
       "Weight        0\n",
       "Team          0\n",
       "NOC           0\n",
       "Games         0\n",
       "Year          0\n",
       "Season        0\n",
       "City          0\n",
       "Sport         0\n",
       "Event         0\n",
       "Medal         0\n",
       "Height (m)    0\n",
       "BMI           0\n",
       "dtype: int64"
      ]
     },
     "execution_count": 49,
     "metadata": {},
     "output_type": "execute_result"
    }
   ],
   "source": [
    "df.isnull().sum()"
   ]
  },
  {
   "cell_type": "code",
   "execution_count": 50,
   "metadata": {},
   "outputs": [
    {
     "name": "stdout",
     "output_type": "stream",
     "text": [
      "no. of unique values in Name : 2238\n",
      "\n",
      "no. of unique values in Sex : 2\n",
      "\n",
      "no. of unique values in Age : 41\n",
      "\n",
      "no. of unique values in Height : 68\n",
      "\n",
      "no. of unique values in Weight : 96\n",
      "\n",
      "no. of unique values in Team : 15\n",
      "\n",
      "no. of unique values in NOC : 5\n",
      "\n",
      "no. of unique values in Games : 1\n",
      "\n",
      "no. of unique values in Year : 1\n",
      "\n",
      "no. of unique values in Season : 1\n",
      "\n",
      "no. of unique values in City : 1\n",
      "\n",
      "no. of unique values in Sport : 34\n",
      "\n",
      "no. of unique values in Event : 300\n",
      "\n",
      "no. of unique values in Medal : 2\n",
      "\n",
      "no. of unique values in Height (m) : 68\n",
      "\n",
      "no. of unique values in BMI : 714\n",
      "\n"
     ]
    }
   ],
   "source": [
    "for vars in df.columns:\n",
    "  print(f'no. of unique values in {vars} : {df[vars].nunique()}\\n')"
   ]
  },
  {
   "cell_type": "code",
   "execution_count": 51,
   "metadata": {},
   "outputs": [
    {
     "data": {
      "text/plain": [
       "Year\n",
       "2016    2857\n",
       "Name: Medal, dtype: int64"
      ]
     },
     "execution_count": 51,
     "metadata": {},
     "output_type": "execute_result"
    }
   ],
   "source": [
    "year_wise_total_medal=df.groupby('Year')['Medal'].count()\n",
    "year_wise_total_medal"
   ]
  },
  {
   "cell_type": "code",
   "execution_count": 52,
   "metadata": {},
   "outputs": [
    {
     "data": {
      "image/png": "[encoded data removed]",
      "text/plain": [
       "<Figure size 432x288 with 1 Axes>"
      ]
     },
     "metadata": {
      "needs_background": "light"
     },
     "output_type": "display_data"
    }
   ],
   "source": [
    "year_wise_total_medal.plot(kind='bar');"
   ]
  },
  {
   "cell_type": "code",
   "execution_count": 53,
   "metadata": {},
   "outputs": [
    {
     "name": "stderr",
     "output_type": "stream",
     "text": [
      "c:\\users\\admin\\appdata\\local\\programs\\python\\python38\\lib\\site-packages\\seaborn\\_decorators.py:36: FutureWarning: Pass the following variable as a keyword arg: x. From version 0.12, the only valid positional argument will be `data`, and passing other arguments without an explicit keyword will result in an error or misinterpretation.\n",
      "  warnings.warn(\n"
     ]
    },
    {
     "data": {
      "image/png": "[encoded data removed]",
      "text/plain": [
       "<Figure size 1080x432 with 1 Axes>"
      ]
     },
     "metadata": {
      "needs_background": "light"
     },
     "output_type": "display_data"
    }
   ],
   "source": [
    "plt.figure(figsize=(15,6))\n",
    "sns.countplot(df['Year'], hue=df['Medal']);"
   ]
  },
  {
   "cell_type": "code",
   "execution_count": 55,
   "metadata": {},
   "outputs": [
    {
     "data": {
      "text/plain": [
       "<seaborn.axisgrid.PairGrid at 0x237aea0a7f0>"
      ]
     },
     "execution_count": 55,
     "metadata": {},
     "output_type": "execute_result"
    },
    {
     "data": {
      "image/png": "[encoded data removed]",
      "text/plain": [
       "<Figure size 1080x1080 with 42 Axes>"
      ]
     },
     "metadata": {
      "needs_background": "light"
     },
     "output_type": "display_data"
    }
   ],
   "source": [
    "sns.pairplot(df)"
   ]
  },
  {
   "cell_type": "markdown",
   "metadata": {},
   "source": [
    "# THANK YOU"
   ]
  }
 ],
 "metadata": {
  "colab": {
   "name": "Olympic Medal Prediction.ipynb",
   "provenance": []
  },
  "kernelspec": {
   "display_name": "Python 3",
   "language": "python",
   "name": "python3"
  },
  "language_info": {
   "codemirror_mode": {
    "name": "ipython",
    "version": 3
   },
   "file_extension": ".py",
   "mimetype": "text/x-python",
   "name": "python",
   "nbconvert_exporter": "python",
   "pygments_lexer": "ipython3",
   "version": "3.8.1"
  }
 },
 "nbformat": 4,
 "nbformat_minor": 1
}
